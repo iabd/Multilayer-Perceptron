{
 "cells": [
  {
   "cell_type": "markdown",
   "metadata": {},
   "source": [
    "<b>Python version:</b>  >3.6<br/>\n",
    "<b>External Packages:</b> pandas, matplotlib, sklearn, numpy<br/>\n",
    "<b>Last update:</b> 31st Jan 2018\n",
    "\n",
    "<b>About this project:</b> This is an academic project, submitted as a part of semester credits in \"Machine Learning by <a href=\"http://pages.di.unipi.it/micheli/\">Prof. Micheli </a>\" at Università di Pisa. \n"
   ]
  },
  {
   "cell_type": "markdown",
   "metadata": {},
   "source": [
    "<a id='top'></a>\n",
    "# *Demonstration of Perceptron Model*\n",
    "\n",
    "In this notebook, the perceptron model is demonstrated and tested. The model is functional perceptron model is developed from the scratch. The aim was to implement our understanidng of perceptron model and to test the effect of various hyper-parameters. It is a very flexible model with support of classification as well as regression tasks. This model supports hyper parameters such as learning rate, momentum, regularization, weight initialization types etc. Almost every parameter can be passed through grid search and can be tuned. <br>\n",
    "<br>\n",
    "Grid search with cross validation is also developed in addition, to try different combinations of hyperparameters in order to do classification/regression tasks. Grid search returns the log(if log=True) and the list of best hyperparameters (length depends upon 'topn' function parameter). The hyper parameters are chosen according to either least trainingLoss or least validationLoss or the mean of two. \n"
   ]
  },
  {
   "cell_type": "markdown",
   "metadata": {},
   "source": [
    "## Table of Contents\n",
    "\n",
    "1. [Experiments on Monk 1 dataset](#monk1)\n",
    "    1. [Grid Search on Monk 1](#monk1gs)\n",
    "    2. [Training Monk1 with best parameters obtained](#monk1train)\n",
    "    3. [Testing Monk1](#monk1test)\n",
    "    4. [Training monk1 with best parameters obtained, with cross validation](#monk1cv)\n",
    "2. [Experiments on Monk 2 dataset](#monk2)\n",
    "    1. [Grid Search on Monk 2](#monk2gs)\n",
    "    2. [Training Monk 2 with best parameters obtained](#monk2train)\n",
    "    3. [Testing Monk 2](#monk2test)\n",
    "    4. [Training monk 3 with best parameters obtained, with cross validation](#monk2cv)\n",
    "3. [Experiments on Monk 3 dataset](#monk3)\n",
    "    1. [Grid Search on Monk 3](#monk3gs)\n",
    "    2. [Training Monk 3 with best parameters obtained](#monk3train)\n",
    "    3. [Testing Monk 3](#monk3test)\n",
    "    4. [Training monk 3 with best parameters obtained, with cross validation](#monk3cv)\n",
    "        \n",
    "4. [Regression Problem | ML Cup](#mlcup)\n",
    "    1. [Grid search on regression problem](#mlcupgs)\n",
    "    2. [Training with with best parameters obtained](#mlcuptrain)\n",
    "    3. [Training with cross validation, with best parameters](#mlcupcv)\n",
    "    4. [Blind Test](#blindtest)"
   ]
  },
  {
   "cell_type": "code",
   "execution_count": null,
   "metadata": {},
   "outputs": [],
   "source": []
  },
  {
   "cell_type": "code",
   "execution_count": 1,
   "metadata": {},
   "outputs": [],
   "source": [
    "import pdb, time\n",
    "import numpy as np\n",
    "import pandas as pd\n",
    "import matplotlib.pyplot as plt\n",
    "from sklearn.model_selection import train_test_split\n",
    "%matplotlib inline\n",
    "import sklearn.preprocessing as preprocessing\n",
    "from itertools import product"
   ]
  },
  {
   "cell_type": "code",
   "execution_count": null,
   "metadata": {},
   "outputs": [],
   "source": []
  },
  {
   "cell_type": "code",
   "execution_count": 2,
   "metadata": {},
   "outputs": [],
   "source": [
    "from source.perceptron import perceptron\n",
    "from source.abGridSearchCV import abGridSearchCV\n",
    "from source.loadData import loadMonk"
   ]
  },
  {
   "cell_type": "markdown",
   "metadata": {},
   "source": [
    "<a id='monk1'></a>\n",
    "# 0. Monk Datasets ([to top](#top))"
   ]
  },
  {
   "cell_type": "markdown",
   "metadata": {},
   "source": [
    "Attributes with granularity:\n",
    "a1: 1, 2, 3\n",
    "a2: 1, 2, 3\n",
    "a3: 1, 2\n",
    "a4: 1, 2, 3\n",
    "a5: 1, 2, 3, 4\n",
    "a6: 1, 2\n",
    "target: 0, 1\n",
    "\n",
    "#### In Monk 1 Dataset, the targets are 1 if (a1==a2) or (a5==1)\n",
    "\n",
    "#### In Monk 2 Dataset, the targets are 1 if exactly two of {a1 = 1, a2 = 1, a3 = 1, a4 = 1, a5 = 1, a6 = 1} are correct. \n",
    "\n",
    "#### In Monk 3 Dataset, targets are 1 if (a5 = 3 and a4 = 1) or (a5 /= 4 and a2 /= 3).\n",
    "\n",
    "```\n",
    "Carnegie Mellon University Pittsburgh, PA 15213, USA E-mail: thrun '@' cs.cmu. edu.\n",
    "```"
   ]
  },
  {
   "cell_type": "markdown",
   "metadata": {},
   "source": [
    "<a id='monk1'></a>\n",
    "# 1. Experiments on Monk 1 ([to top](#top))"
   ]
  },
  {
   "cell_type": "code",
   "execution_count": 3,
   "metadata": {},
   "outputs": [],
   "source": [
    "trainData, trainLabels=loadMonk(1, 'train', encodeLabel=False)"
   ]
  },
  {
   "cell_type": "markdown",
   "metadata": {},
   "source": [
    "<a id='monk1gs'></a>\n",
    "### A. Grid Search on Monk1 ([to top](#top))"
   ]
  },
  {
   "cell_type": "markdown",
   "metadata": {},
   "source": [
    "ETA is learning rate,\n",
    "LAMBDA is regularization parameter,\n",
    "ALPHA is momentum,"
   ]
  },
  {
   "cell_type": "code",
   "execution_count": 3,
   "metadata": {},
   "outputs": [],
   "source": [
    "defaultParameters={\n",
    "    'hiddenUnits':3,\n",
    "    'randomSeed':0,\n",
    "    'activation':'sigm',\n",
    "    'epochs':500,\n",
    "    'ETA':0.4,\n",
    "    'LAMBDA':0.0,\n",
    "    'loss':\"MEE\",\n",
    "    'ALPHA':0.9,\n",
    "    'weightInitialization':'xav',\n",
    "    'regression':False,\n",
    "    'earlyStopping':True,\n",
    "    'tolerance':1e-3,\n",
    "    'patience':20\n",
    "}\n",
    "\n",
    "parameterGridForModelSelection={\n",
    "#     'randomSeed':[0, 20],\n",
    "    'hiddenUnits':[4, 16],\n",
    "    'activation':['sigm', 'relu', 'tanh'],\n",
    "    'ETA':[0.1, 0.2, 0.3, 0.5, 0.7,0.9],\n",
    "    'LAMBDA':[0.001,0.01],\n",
    "    'ALPHA':[0.2, 0.5, 0.7, 0.9],\n",
    "#     'weightInitialization':['xav', 'he', 'type1'],\n",
    "#     'epochs':[300, 500]\n",
    "}"
   ]
  },
  {
   "cell_type": "code",
   "execution_count": 5,
   "metadata": {},
   "outputs": [
    {
     "name": "stdout",
     "output_type": "stream",
     "text": [
      "iteration 21/500        287/288\r"
     ]
    }
   ],
   "source": [
    "top5BestParams=abGridSearchCV(defaultParameters, parameterGridForModelSelection, trainData, trainLabels, winnerCriteria=\"meanLosses\", validationSplit=0.3, log=False, topn=5)"
   ]
  },
  {
   "cell_type": "code",
   "execution_count": 6,
   "metadata": {
    "scrolled": true
   },
   "outputs": [
    {
     "data": {
      "text/plain": [
       "[{'meanLosses': 0.080383052475397454,\n",
       "  'meanTrainingLoss': 0.074816536086853846,\n",
       "  'meanValidationLoss': 0.085949568863941075,\n",
       "  'params': {'ALPHA': 0.5,\n",
       "   'ETA': 0.3,\n",
       "   'LAMBDA': 0.001,\n",
       "   'activation': 'sigm',\n",
       "   'epochs': 413,\n",
       "   'hiddenUnits': 4}},\n",
       " {'meanLosses': 0.081376470456553995,\n",
       "  'meanTrainingLoss': 0.07491194201533527,\n",
       "  'meanValidationLoss': 0.087840998897772707,\n",
       "  'params': {'ALPHA': 0.9,\n",
       "   'ETA': 0.2,\n",
       "   'LAMBDA': 0.001,\n",
       "   'activation': 'sigm',\n",
       "   'epochs': 477,\n",
       "   'hiddenUnits': 4}},\n",
       " {'meanLosses': 0.082419646642824682,\n",
       "  'meanTrainingLoss': 0.07471128658272097,\n",
       "  'meanValidationLoss': 0.090128006702928393,\n",
       "  'params': {'ALPHA': 0.7,\n",
       "   'ETA': 0.5,\n",
       "   'LAMBDA': 0.001,\n",
       "   'activation': 'sigm',\n",
       "   'epochs': 352,\n",
       "   'hiddenUnits': 4}},\n",
       " {'meanLosses': 0.084242516160344783,\n",
       "  'meanTrainingLoss': 0.072312472974062944,\n",
       "  'meanValidationLoss': 0.096172559346626621,\n",
       "  'params': {'ALPHA': 0.9,\n",
       "   'ETA': 0.7,\n",
       "   'LAMBDA': 0.001,\n",
       "   'activation': 'sigm',\n",
       "   'epochs': 299,\n",
       "   'hiddenUnits': 4}},\n",
       " {'meanLosses': 0.084373773845286978,\n",
       "  'meanTrainingLoss': 0.079003026519703604,\n",
       "  'meanValidationLoss': 0.089744521170870353,\n",
       "  'params': {'ALPHA': 0.7,\n",
       "   'ETA': 0.2,\n",
       "   'LAMBDA': 0.001,\n",
       "   'activation': 'sigm',\n",
       "   'epochs': 476,\n",
       "   'hiddenUnits': 4}}]"
      ]
     },
     "execution_count": 6,
     "metadata": {},
     "output_type": "execute_result"
    }
   ],
   "source": [
    "top5BestParams"
   ]
  },
  {
   "cell_type": "code",
   "execution_count": 12,
   "metadata": {},
   "outputs": [],
   "source": [
    "bestParams=top5BestParams[0]['params']\n",
    "defaultParameters['earlyStopping']=False"
   ]
  },
  {
   "cell_type": "code",
   "execution_count": 13,
   "metadata": {},
   "outputs": [
    {
     "data": {
      "text/plain": [
       "{'ALPHA': 0.5,\n",
       " 'ETA': 0.3,\n",
       " 'LAMBDA': 0.001,\n",
       " 'activation': 'sigm',\n",
       " 'epochs': 413,\n",
       " 'hiddenUnits': 4}"
      ]
     },
     "execution_count": 13,
     "metadata": {},
     "output_type": "execute_result"
    }
   ],
   "source": [
    "bestParams"
   ]
  },
  {
   "cell_type": "markdown",
   "metadata": {},
   "source": [
    "<a id='monk1train'></a>\n",
    "### B. Training Monk 1 with best parameters obtained ([to top](#top))"
   ]
  },
  {
   "cell_type": "markdown",
   "metadata": {},
   "source": [
    "<h5> For fun.. testing a neural network initialized with zero weights"
   ]
  },
  {
   "cell_type": "code",
   "execution_count": 14,
   "metadata": {},
   "outputs": [
    {
     "name": "stdout",
     "output_type": "stream",
     "text": [
      "iteration 413/413\r"
     ]
    }
   ],
   "source": [
    "x=perceptron(**defaultParameters)\n",
    "x.set_params(**bestParams)\n",
    "x.set_params(weightInitialization='zero')\n",
    "x.fit(trainData, trainLabels)"
   ]
  },
  {
   "cell_type": "code",
   "execution_count": 15,
   "metadata": {},
   "outputs": [
    {
     "data": {
      "text/plain": [
       "[<matplotlib.lines.Line2D at 0x7f725519ffd0>]"
      ]
     },
     "execution_count": 15,
     "metadata": {},
     "output_type": "execute_result"
    },
    {
     "data": {
      "image/png": "[encoded data removed]",
      "text/plain": [
       "<matplotlib.figure.Figure at 0x7f725782c550>"
      ]
     },
     "metadata": {},
     "output_type": "display_data"
    }
   ],
   "source": [
    "plt.plot(x.losses)"
   ]
  },
  {
   "cell_type": "code",
   "execution_count": 16,
   "metadata": {},
   "outputs": [
    {
     "data": {
      "text/plain": [
       "[<matplotlib.lines.Line2D at 0x7f7255100080>]"
      ]
     },
     "execution_count": 16,
     "metadata": {},
     "output_type": "execute_result"
    },
    {
     "data": {
      "image/png": "[encoded data removed]",
      "text/plain": [
       "<matplotlib.figure.Figure at 0x7f7255195748>"
      ]
     },
     "metadata": {},
     "output_type": "display_data"
    }
   ],
   "source": [
    "plt.plot(x.accuracies)"
   ]
  },
  {
   "cell_type": "code",
   "execution_count": 17,
   "metadata": {},
   "outputs": [],
   "source": [
    "testData, testLabels=loadMonk(1, 'test', encodeLabel=False)\n",
    "testResults, testAccuracy=x.predict(testData, testLabels, acc_=True)"
   ]
  },
  {
   "cell_type": "code",
   "execution_count": 18,
   "metadata": {},
   "outputs": [
    {
     "data": {
      "text/plain": [
       "0.5"
      ]
     },
     "execution_count": 18,
     "metadata": {},
     "output_type": "execute_result"
    }
   ],
   "source": [
    "testAccuracy"
   ]
  },
  {
   "cell_type": "markdown",
   "metadata": {},
   "source": [
    "<h5> fun's over!!!; now let's train our network with best params"
   ]
  },
  {
   "cell_type": "code",
   "execution_count": 19,
   "metadata": {},
   "outputs": [
    {
     "name": "stdout",
     "output_type": "stream",
     "text": [
      "iteration 413/413\r"
     ]
    }
   ],
   "source": [
    "x=perceptron(**defaultParameters)\n",
    "x.set_params(**bestParams)\n",
    "x.fit(trainData, trainLabels)"
   ]
  },
  {
   "cell_type": "code",
   "execution_count": 20,
   "metadata": {},
   "outputs": [
    {
     "data": {
      "text/plain": [
       "[<matplotlib.lines.Line2D at 0x7f72550d83c8>]"
      ]
     },
     "execution_count": 20,
     "metadata": {},
     "output_type": "execute_result"
    },
    {
     "data": {
      "image/png": "[encoded data removed]",
      "text/plain": [
       "<matplotlib.figure.Figure at 0x7f7255144160>"
      ]
     },
     "metadata": {},
     "output_type": "display_data"
    }
   ],
   "source": [
    "plt.plot(x.losses)"
   ]
  },
  {
   "cell_type": "code",
   "execution_count": 21,
   "metadata": {},
   "outputs": [
    {
     "data": {
      "text/plain": [
       "[<matplotlib.lines.Line2D at 0x7f725502dcf8>]"
      ]
     },
     "execution_count": 21,
     "metadata": {},
     "output_type": "execute_result"
    },
    {
     "data": {
      "image/png": "[encoded data removed]",
      "text/plain": [
       "<matplotlib.figure.Figure at 0x7f725780e4e0>"
      ]
     },
     "metadata": {},
     "output_type": "display_data"
    }
   ],
   "source": [
    "plt.plot(x.accuracies)"
   ]
  },
  {
   "cell_type": "markdown",
   "metadata": {},
   "source": [
    "<a id='monk1test'></a>\n",
    "### B. Testing Monk 1 trained model([to top](#top))"
   ]
  },
  {
   "cell_type": "code",
   "execution_count": 22,
   "metadata": {},
   "outputs": [],
   "source": [
    "testData, testLabels=loadMonk(1, 'test', encodeLabel=False)"
   ]
  },
  {
   "cell_type": "code",
   "execution_count": 23,
   "metadata": {},
   "outputs": [],
   "source": [
    "testResults, testAccuracy=x.predict(testData, testLabels, acc_=True)"
   ]
  },
  {
   "cell_type": "code",
   "execution_count": 24,
   "metadata": {},
   "outputs": [
    {
     "data": {
      "text/plain": [
       "1.0"
      ]
     },
     "execution_count": 24,
     "metadata": {},
     "output_type": "execute_result"
    }
   ],
   "source": [
    "testAccuracy"
   ]
  },
  {
   "cell_type": "markdown",
   "metadata": {},
   "source": [
    "<a id='monk1cv'></a>\n",
    "### C. Training Monk 1 with best parameters obtained, with cross validation ([to top](#top))"
   ]
  },
  {
   "cell_type": "code",
   "execution_count": 25,
   "metadata": {},
   "outputs": [],
   "source": [
    "trainData, trainLabels=loadMonk(1, 'train', encodeLabel=False)\n",
    "trainData, validationData, trainLabels, validationLabels=train_test_split(trainData, trainLabels, test_size=0.1)"
   ]
  },
  {
   "cell_type": "code",
   "execution_count": 26,
   "metadata": {},
   "outputs": [
    {
     "name": "stdout",
     "output_type": "stream",
     "text": [
      "iteration 413/413\r"
     ]
    }
   ],
   "source": [
    "x=perceptron(**defaultParameters)\n",
    "x.set_params(**bestParams)\n",
    "x.fit(trainData, trainLabels, validationFeatures=validationData, validationLabels=validationLabels)"
   ]
  },
  {
   "cell_type": "code",
   "execution_count": 27,
   "metadata": {},
   "outputs": [
    {
     "data": {
      "text/plain": [
       "[<matplotlib.lines.Line2D at 0x7f7255078400>]"
      ]
     },
     "execution_count": 27,
     "metadata": {},
     "output_type": "execute_result"
    },
    {
     "data": {
      "image/png": "[encoded data removed]",
      "text/plain": [
       "<matplotlib.figure.Figure at 0x7f7255078f98>"
      ]
     },
     "metadata": {},
     "output_type": "display_data"
    }
   ],
   "source": [
    "plt.plot(x.accuracies)\n",
    "plt.plot(x.validationAccuracies)"
   ]
  },
  {
   "cell_type": "code",
   "execution_count": 28,
   "metadata": {},
   "outputs": [
    {
     "data": {
      "text/plain": [
       "[<matplotlib.lines.Line2D at 0x7f71bac6a748>]"
      ]
     },
     "execution_count": 28,
     "metadata": {},
     "output_type": "execute_result"
    },
    {
     "data": {
      "image/png": "[encoded data removed]",
      "text/plain": [
       "<matplotlib.figure.Figure at 0x7f71bac6a780>"
      ]
     },
     "metadata": {},
     "output_type": "display_data"
    }
   ],
   "source": [
    "plt.plot(x.losses)\n",
    "plt.plot(x.validationLosses)"
   ]
  },
  {
   "cell_type": "markdown",
   "metadata": {},
   "source": [
    "<a id='monk2'></a>\n",
    "# 2. Monk 2 ([to top](#top))"
   ]
  },
  {
   "cell_type": "code",
   "execution_count": 4,
   "metadata": {},
   "outputs": [],
   "source": [
    "trainData, trainLabels=loadMonk(2, 'train', encodeLabel=False)"
   ]
  },
  {
   "cell_type": "markdown",
   "metadata": {},
   "source": [
    "<a id='monk2gs'></a>\n",
    "### A. Grid Search on Monk 2 ([to top](#top))"
   ]
  },
  {
   "cell_type": "code",
   "execution_count": 5,
   "metadata": {},
   "outputs": [
    {
     "name": "stdout",
     "output_type": "stream",
     "text": [
      "iteration 21/500        287/288\r"
     ]
    }
   ],
   "source": [
    "defaultParameters['earlyStopping']=True\n",
    "top5BestParams=abGridSearchCV(defaultParameters, parameterGridForModelSelection, trainData, trainLabels, winnerCriteria=\"meanLosses\", validationSplit=0.3, log=False, topn=5)"
   ]
  },
  {
   "cell_type": "code",
   "execution_count": 6,
   "metadata": {},
   "outputs": [
    {
     "data": {
      "text/plain": [
       "[{'meanLosses': 0.073474774082772629,\n",
       "  'meanTrainingLoss': 0.071237613323866827,\n",
       "  'meanValidationLoss': 0.07571193484167843,\n",
       "  'params': {'ALPHA': 0.9,\n",
       "   'ETA': 0.3,\n",
       "   'LAMBDA': 0.001,\n",
       "   'activation': 'sigm',\n",
       "   'epochs': 372,\n",
       "   'hiddenUnits': 4}},\n",
       " {'meanLosses': 0.077636512762921425,\n",
       "  'meanTrainingLoss': 0.074975553679050108,\n",
       "  'meanValidationLoss': 0.080297471846792742,\n",
       "  'params': {'ALPHA': 0.7,\n",
       "   'ETA': 0.3,\n",
       "   'LAMBDA': 0.001,\n",
       "   'activation': 'sigm',\n",
       "   'epochs': 376,\n",
       "   'hiddenUnits': 4}},\n",
       " {'meanLosses': 0.085343996795136656,\n",
       "  'meanTrainingLoss': 0.082409373163706043,\n",
       "  'meanValidationLoss': 0.08827862042656727,\n",
       "  'params': {'ALPHA': 0.5,\n",
       "   'ETA': 0.3,\n",
       "   'LAMBDA': 0.001,\n",
       "   'activation': 'sigm',\n",
       "   'epochs': 384,\n",
       "   'hiddenUnits': 4}},\n",
       " {'meanLosses': 0.087062271878194264,\n",
       "  'meanTrainingLoss': 0.083728924138565419,\n",
       "  'meanValidationLoss': 0.090395619617823095,\n",
       "  'params': {'ALPHA': 0.9,\n",
       "   'ETA': 0.5,\n",
       "   'LAMBDA': 0.001,\n",
       "   'activation': 'sigm',\n",
       "   'epochs': 315,\n",
       "   'hiddenUnits': 4}},\n",
       " {'meanLosses': 0.089620261402815996,\n",
       "  'meanTrainingLoss': 0.085772966902846179,\n",
       "  'meanValidationLoss': 0.093467555902785812,\n",
       "  'params': {'ALPHA': 0.7,\n",
       "   'ETA': 0.5,\n",
       "   'LAMBDA': 0.001,\n",
       "   'activation': 'sigm',\n",
       "   'epochs': 321,\n",
       "   'hiddenUnits': 4}}]"
      ]
     },
     "execution_count": 6,
     "metadata": {},
     "output_type": "execute_result"
    }
   ],
   "source": [
    "top5BestParams"
   ]
  },
  {
   "cell_type": "code",
   "execution_count": 7,
   "metadata": {},
   "outputs": [],
   "source": [
    "defaultParameters['earlyStopping']=False\n",
    "bestParams=top5BestParams[0]['params']"
   ]
  },
  {
   "cell_type": "markdown",
   "metadata": {},
   "source": [
    "<a id='monk2train'></a>\n",
    "### B. Training Monk 2 with the best parameters obtained([to top](#top))"
   ]
  },
  {
   "cell_type": "code",
   "execution_count": 8,
   "metadata": {},
   "outputs": [
    {
     "name": "stdout",
     "output_type": "stream",
     "text": [
      "iteration 372/372\r"
     ]
    }
   ],
   "source": [
    "x=perceptron(**defaultParameters)\n",
    "x.set_params(**bestParams)\n",
    "x.fit(trainData, trainLabels)"
   ]
  },
  {
   "cell_type": "code",
   "execution_count": 9,
   "metadata": {},
   "outputs": [
    {
     "data": {
      "text/plain": [
       "[<matplotlib.lines.Line2D at 0x7fe23a8dfcc0>]"
      ]
     },
     "execution_count": 9,
     "metadata": {},
     "output_type": "execute_result"
    },
    {
     "data": {
      "image/png": "[encoded data removed]",
      "text/plain": [
       "<matplotlib.figure.Figure at 0x7fe23a8e55c0>"
      ]
     },
     "metadata": {},
     "output_type": "display_data"
    }
   ],
   "source": [
    "plt.plot(x.accuracies)"
   ]
  },
  {
   "cell_type": "code",
   "execution_count": 10,
   "metadata": {},
   "outputs": [
    {
     "data": {
      "text/plain": [
       "[<matplotlib.lines.Line2D at 0x7fe2379cf0b8>]"
      ]
     },
     "execution_count": 10,
     "metadata": {},
     "output_type": "execute_result"
    },
    {
     "data": {
      "image/png": "[encoded data removed]",
      "text/plain": [
       "<matplotlib.figure.Figure at 0x7fe23a8bcc88>"
      ]
     },
     "metadata": {},
     "output_type": "display_data"
    }
   ],
   "source": [
    "plt.plot(x.losses)"
   ]
  },
  {
   "cell_type": "markdown",
   "metadata": {},
   "source": [
    "<a id='monk2test'></a>\n",
    "### C. Testing Monk 2([to top](#top))"
   ]
  },
  {
   "cell_type": "code",
   "execution_count": 11,
   "metadata": {},
   "outputs": [],
   "source": [
    "# to see if a model trained on Monk2 can classify Monk 1\n",
    "testData, testLabels=loadMonk(1, 'test', encodeLabel=False)\n",
    "testResults, testAccuracy=x.predict(testData, testLabels, acc_=True)"
   ]
  },
  {
   "cell_type": "code",
   "execution_count": 12,
   "metadata": {},
   "outputs": [
    {
     "data": {
      "text/plain": [
       "0.43981481481481483"
      ]
     },
     "execution_count": 12,
     "metadata": {},
     "output_type": "execute_result"
    }
   ],
   "source": [
    "testAccuracy #of Monk1 on model trained on monk2"
   ]
  },
  {
   "cell_type": "code",
   "execution_count": 13,
   "metadata": {},
   "outputs": [],
   "source": [
    "#getting serious now ;D\n",
    "testData, testLabels=loadMonk(2, 'test', encodeLabel=False)\n",
    "testResults, testAccuracy=x.predict(testData, testLabels, acc_=True)"
   ]
  },
  {
   "cell_type": "code",
   "execution_count": 14,
   "metadata": {},
   "outputs": [
    {
     "data": {
      "text/plain": [
       "1.0"
      ]
     },
     "execution_count": 14,
     "metadata": {},
     "output_type": "execute_result"
    }
   ],
   "source": [
    "testAccuracy #yayy!"
   ]
  },
  {
   "cell_type": "markdown",
   "metadata": {},
   "source": [
    "<a id='monk2cv'></a>\n",
    "### D. Training Monk 2 with the best parameters and with cross validation([to top](#top))"
   ]
  },
  {
   "cell_type": "code",
   "execution_count": 15,
   "metadata": {},
   "outputs": [
    {
     "name": "stdout",
     "output_type": "stream",
     "text": [
      "iteration 372/372\r"
     ]
    }
   ],
   "source": [
    "trainData, trainLabels=loadMonk(2, 'train', encodeLabel=False)\n",
    "trainData, validationData, trainLabels, validationLabels=train_test_split(trainData, trainLabels, test_size=0.1)\n",
    "x=perceptron(**defaultParameters)\n",
    "x.set_params(**bestParams)\n",
    "x.fit(trainData, trainLabels, validationFeatures=validationData, validationLabels=validationLabels)"
   ]
  },
  {
   "cell_type": "code",
   "execution_count": 16,
   "metadata": {},
   "outputs": [
    {
     "data": {
      "text/plain": [
       "[<matplotlib.lines.Line2D at 0x7fe23a8c4c50>]"
      ]
     },
     "execution_count": 16,
     "metadata": {},
     "output_type": "execute_result"
    },
    {
     "data": {
      "image/png": "[encoded data removed]",
      "text/plain": [
       "<matplotlib.figure.Figure at 0x7fe23a8c4908>"
      ]
     },
     "metadata": {},
     "output_type": "display_data"
    }
   ],
   "source": [
    "plt.plot(x.accuracies)\n",
    "plt.plot(x.validationAccuracies)"
   ]
  },
  {
   "cell_type": "code",
   "execution_count": 17,
   "metadata": {},
   "outputs": [
    {
     "data": {
      "text/plain": [
       "[<matplotlib.lines.Line2D at 0x7fe2379679e8>]"
      ]
     },
     "execution_count": 17,
     "metadata": {},
     "output_type": "execute_result"
    },
    {
     "data": {
      "image/png": "[encoded data removed]",
      "text/plain": [
       "<matplotlib.figure.Figure at 0x7fe237967a58>"
      ]
     },
     "metadata": {},
     "output_type": "display_data"
    }
   ],
   "source": [
    "plt.plot(x.losses)\n",
    "plt.plot(x.validationLosses)"
   ]
  },
  {
   "cell_type": "markdown",
   "metadata": {},
   "source": [
    "<a id='monk3'></a>\n",
    "# 3. Monk 3 ([to top](#top))"
   ]
  },
  {
   "cell_type": "code",
   "execution_count": 18,
   "metadata": {},
   "outputs": [],
   "source": [
    "trainData, trainLabels=loadMonk(3, 'train', encodeLabel=False)"
   ]
  },
  {
   "cell_type": "markdown",
   "metadata": {},
   "source": [
    "<a id='monk3gs'></a>\n",
    "### A. Grid Search on Monk 3 ([to top](#top))"
   ]
  },
  {
   "cell_type": "code",
   "execution_count": 19,
   "metadata": {},
   "outputs": [
    {
     "name": "stdout",
     "output_type": "stream",
     "text": [
      "iteration 21/500        287/288\r"
     ]
    }
   ],
   "source": [
    "defaultParameters['earlyStopping']=True\n",
    "top5BestParams=abGridSearchCV(defaultParameters, parameterGridForModelSelection, trainData, trainLabels, winnerCriteria=\"meanLosses\", validationSplit=0.3, log=False, topn=5)\n",
    "defaultParameters['earlyStopping']=False"
   ]
  },
  {
   "cell_type": "code",
   "execution_count": 20,
   "metadata": {},
   "outputs": [
    {
     "data": {
      "text/plain": [
       "[{'meanLosses': 0.073088388910850718,\n",
       "  'meanTrainingLoss': 0.05514765608540876,\n",
       "  'meanValidationLoss': 0.09102912173629267,\n",
       "  'params': {'ALPHA': 0.9,\n",
       "   'ETA': 0.7,\n",
       "   'LAMBDA': 0.001,\n",
       "   'activation': 'sigm',\n",
       "   'epochs': 363,\n",
       "   'hiddenUnits': 4}},\n",
       " {'meanLosses': 0.074405958835380953,\n",
       "  'meanTrainingLoss': 0.06467883672931346,\n",
       "  'meanValidationLoss': 0.084133080941448432,\n",
       "  'params': {'ALPHA': 0.9,\n",
       "   'ETA': 0.3,\n",
       "   'LAMBDA': 0.001,\n",
       "   'activation': 'sigm',\n",
       "   'epochs': 382,\n",
       "   'hiddenUnits': 4}},\n",
       " {'meanLosses': 0.076441115686924674,\n",
       "  'meanTrainingLoss': 0.065130088221405716,\n",
       "  'meanValidationLoss': 0.087752143152443632,\n",
       "  'params': {'ALPHA': 0.7,\n",
       "   'ETA': 0.3,\n",
       "   'LAMBDA': 0.001,\n",
       "   'activation': 'sigm',\n",
       "   'epochs': 396,\n",
       "   'hiddenUnits': 4}},\n",
       " {'meanLosses': 0.082981430081672025,\n",
       "  'meanTrainingLoss': 0.069712231732486349,\n",
       "  'meanValidationLoss': 0.096250628430857715,\n",
       "  'params': {'ALPHA': 0.5,\n",
       "   'ETA': 0.3,\n",
       "   'LAMBDA': 0.001,\n",
       "   'activation': 'sigm',\n",
       "   'epochs': 375,\n",
       "   'hiddenUnits': 4}},\n",
       " {'meanLosses': 0.083468995709044772,\n",
       "  'meanTrainingLoss': 0.073056830286287025,\n",
       "  'meanValidationLoss': 0.093881161131802518,\n",
       "  'params': {'ALPHA': 0.2,\n",
       "   'ETA': 0.9,\n",
       "   'LAMBDA': 0.001,\n",
       "   'activation': 'sigm',\n",
       "   'epochs': 363,\n",
       "   'hiddenUnits': 4}}]"
      ]
     },
     "execution_count": 20,
     "metadata": {},
     "output_type": "execute_result"
    }
   ],
   "source": [
    "top5BestParams"
   ]
  },
  {
   "cell_type": "code",
   "execution_count": 21,
   "metadata": {},
   "outputs": [],
   "source": [
    "bestParams=top5BestParams[0]['params']"
   ]
  },
  {
   "cell_type": "markdown",
   "metadata": {},
   "source": [
    "<a id='monk3train'></a>\n",
    "### B. Training Monk 3 with the best parameters obtained([to top](#top))"
   ]
  },
  {
   "cell_type": "code",
   "execution_count": 22,
   "metadata": {},
   "outputs": [
    {
     "name": "stdout",
     "output_type": "stream",
     "text": [
      "iteration 363/363\r"
     ]
    }
   ],
   "source": [
    "x=perceptron(**defaultParameters)\n",
    "x.set_params(**bestParams)\n",
    "x.fit(trainData, trainLabels)"
   ]
  },
  {
   "cell_type": "code",
   "execution_count": 23,
   "metadata": {},
   "outputs": [
    {
     "data": {
      "text/plain": [
       "[<matplotlib.lines.Line2D at 0x7fe23789e080>]"
      ]
     },
     "execution_count": 23,
     "metadata": {},
     "output_type": "execute_result"
    },
    {
     "data": {
      "image/png": "[encoded data removed]",
      "text/plain": [
       "<matplotlib.figure.Figure at 0x7fe237940c50>"
      ]
     },
     "metadata": {},
     "output_type": "display_data"
    }
   ],
   "source": [
    "plt.plot(x.accuracies)"
   ]
  },
  {
   "cell_type": "code",
   "execution_count": 24,
   "metadata": {},
   "outputs": [
    {
     "data": {
      "text/plain": [
       "[<matplotlib.lines.Line2D at 0x7fe233163668>]"
      ]
     },
     "execution_count": 24,
     "metadata": {},
     "output_type": "execute_result"
    },
    {
     "data": {
      "image/png": "[encoded data removed]",
      "text/plain": [
       "<matplotlib.figure.Figure at 0x7fe237967ac8>"
      ]
     },
     "metadata": {},
     "output_type": "display_data"
    }
   ],
   "source": [
    "plt.plot(x.losses)"
   ]
  },
  {
   "cell_type": "markdown",
   "metadata": {},
   "source": [
    "<a id='monk3test'></a>\n",
    "### C. Testing Monk 3 trained Model([to top](#top))"
   ]
  },
  {
   "cell_type": "code",
   "execution_count": 25,
   "metadata": {},
   "outputs": [],
   "source": [
    "testData, testLabels=loadMonk(3, 'test', encodeLabel=False)\n",
    "testResults, testAccuracy=x.predict(testData, testLabels, acc_=True)"
   ]
  },
  {
   "cell_type": "code",
   "execution_count": 26,
   "metadata": {},
   "outputs": [
    {
     "data": {
      "text/plain": [
       "0.94444444444444442"
      ]
     },
     "execution_count": 26,
     "metadata": {},
     "output_type": "execute_result"
    }
   ],
   "source": [
    "testAccuracy"
   ]
  },
  {
   "cell_type": "markdown",
   "metadata": {},
   "source": [
    "<a id='monk3cv'></a>\n",
    "### D. Training monk 3 with the best parameters and with cross validation([to top](#top))"
   ]
  },
  {
   "cell_type": "code",
   "execution_count": 27,
   "metadata": {},
   "outputs": [
    {
     "name": "stdout",
     "output_type": "stream",
     "text": [
      "iteration 363/363\r"
     ]
    }
   ],
   "source": [
    "trainData, trainLabels=loadMonk(3, 'train', encodeLabel=False)\n",
    "trainData, validationData, trainLabels, validationLabels=train_test_split(trainData, trainLabels, test_size=0.2)\n",
    "x=perceptron(**defaultParameters)\n",
    "x.set_params(**bestParams)\n",
    "x.fit(trainData, trainLabels, validationFeatures=validationData, validationLabels=validationLabels)"
   ]
  },
  {
   "cell_type": "code",
   "execution_count": 28,
   "metadata": {},
   "outputs": [
    {
     "data": {
      "text/plain": [
       "[<matplotlib.lines.Line2D at 0x7fe23783ef98>]"
      ]
     },
     "execution_count": 28,
     "metadata": {},
     "output_type": "execute_result"
    },
    {
     "data": {
      "image/png": "[encoded data removed]",
      "text/plain": [
       "<matplotlib.figure.Figure at 0x7fe23783eb70>"
      ]
     },
     "metadata": {},
     "output_type": "display_data"
    }
   ],
   "source": [
    "plt.plot(x.accuracies)\n",
    "plt.plot(x.validationAccuracies)"
   ]
  },
  {
   "cell_type": "code",
   "execution_count": 29,
   "metadata": {},
   "outputs": [
    {
     "data": {
      "text/plain": [
       "[<matplotlib.lines.Line2D at 0x7fe23315a518>]"
      ]
     },
     "execution_count": 29,
     "metadata": {},
     "output_type": "execute_result"
    },
    {
     "data": {
      "image/png": "[encoded data removed]",
      "text/plain": [
       "<matplotlib.figure.Figure at 0x7fe23315a588>"
      ]
     },
     "metadata": {},
     "output_type": "display_data"
    }
   ],
   "source": [
    "plt.plot(x.losses)\n",
    "plt.plot(x.validationLosses)"
   ]
  },
  {
   "cell_type": "markdown",
   "metadata": {},
   "source": [
    "<a id='mlcup'></a>\n",
    "# 4. Regression Problem | ML Cup([to top](#top))"
   ]
  },
  {
   "cell_type": "markdown",
   "metadata": {},
   "source": [
    "The dataset (ML Cup) contains 10 features and 2 labels. Both features and lables are continuous values. \n",
    "The dataset contains 1015 rows for training. The blind test data contains 315 unlabled rows with 10 columns. \n",
    "```\n",
    "Dataset provided by Prof. Alessio Micheli, Università di Pisa.\n",
    "```"
   ]
  },
  {
   "cell_type": "markdown",
   "metadata": {},
   "source": [
    "<h4>Data preparation"
   ]
  },
  {
   "cell_type": "code",
   "execution_count": 3,
   "metadata": {},
   "outputs": [
    {
     "data": {
      "text/plain": [
       "1015"
      ]
     },
     "execution_count": 3,
     "metadata": {},
     "output_type": "execute_result"
    }
   ],
   "source": [
    "cupTrain=pd.read_csv('data/mlCup/ML-CUP18-TR.csv', skiprows=9, usecols=range(1,13))\n",
    "colums=[\"i{}\".format(i) for i in range(1,11)]+['classX', 'classY']\n",
    "cupTrain.columns=colums\n",
    "len(cupTrain)"
   ]
  },
  {
   "cell_type": "code",
   "execution_count": 4,
   "metadata": {},
   "outputs": [],
   "source": [
    "features=cupTrain.drop(['classX','classY'],axis = 1).values\n",
    "labels=cupTrain[['classX', 'classY']].values"
   ]
  },
  {
   "cell_type": "code",
   "execution_count": 5,
   "metadata": {},
   "outputs": [
    {
     "data": {
      "text/plain": [
       "315"
      ]
     },
     "execution_count": 5,
     "metadata": {},
     "output_type": "execute_result"
    }
   ],
   "source": [
    "cupTest=pd.read_csv('data/mlCup/ML-CUP18-TS.csv', header=None)\n",
    "colums=['index']+[\"i{}\".format(i) for i in range(1,11)]\n",
    "cupTest.columns=colums\n",
    "len(cupTest)"
   ]
  },
  {
   "cell_type": "code",
   "execution_count": 6,
   "metadata": {},
   "outputs": [],
   "source": [
    "cupTest=cupTest.drop(['index'], axis=1)\n",
    "blindFeatures=cupTest.values"
   ]
  },
  {
   "cell_type": "code",
   "execution_count": 7,
   "metadata": {},
   "outputs": [],
   "source": [
    "trainDataCup, validationDataCup, trainLabelsCup, validationLabelsCup=train_test_split(features,labels, test_size=0.2, shuffle=True)"
   ]
  },
  {
   "cell_type": "code",
   "execution_count": 8,
   "metadata": {},
   "outputs": [],
   "source": [
    "minMaxScaler = preprocessing.MinMaxScaler()\n",
    "stdScaler=preprocessing.StandardScaler()"
   ]
  },
  {
   "cell_type": "markdown",
   "metadata": {},
   "source": [
    "<h5>scaling"
   ]
  },
  {
   "cell_type": "code",
   "execution_count": 9,
   "metadata": {},
   "outputs": [],
   "source": [
    "trainData=stdScaler.fit_transform(features)\n",
    "trainLabels=stdScaler.fit_transform(labels)\n",
    "trainDataCup =stdScaler.fit_transform(trainDataCup)\n",
    "validationDataCup=stdScaler.fit_transform(validationDataCup)\n",
    "blindFeatures=stdScaler.fit_transform(blindFeatures)"
   ]
  },
  {
   "cell_type": "markdown",
   "metadata": {},
   "source": [
    "<a id='mlcupgs'></a>\n",
    "### A. Grid Search on regression problem ([to top](#top))"
   ]
  },
  {
   "cell_type": "code",
   "execution_count": 10,
   "metadata": {},
   "outputs": [],
   "source": [
    "defaultParameters={\n",
    "    'hiddenUnits':3,\n",
    "    'randomSeed':0,\n",
    "    'activation':'sigm',\n",
    "    'epochs':1000,\n",
    "    'ETA':0.4,\n",
    "    'LAMBDA':0.0,\n",
    "    'loss':\"MSE\",\n",
    "    'ALPHA':0.9,\n",
    "    'weightInitialization':'xav',\n",
    "    'regression':True,\n",
    "    'earlyStopping':True,\n",
    "    'tolerance':1e-3,\n",
    "    'patience':20\n",
    "    \n",
    "}\n",
    "\n",
    "parameterGridForModelSelection={\n",
    "#     'randomSeed':[0, 20],\n",
    "    'hiddenUnits':[10, 50, 80],\n",
    "    'activation':['sigm', 'relu', 'tanh'],\n",
    "    'ETA':[0.01, 0.2, 0.4, 0.9],\n",
    "    'LAMBDA':[0.1,0.01, 0.001],\n",
    "    'ALPHA':[0.4, 0.1, 0.7, 0.01],\n",
    "    'weightInitialization':['xav', 'he'],\n",
    "    'epochs':[800] #before that, it'll stop automatically due to earlystopping so need to add more options\n",
    "}"
   ]
  },
  {
   "cell_type": "code",
   "execution_count": 11,
   "metadata": {},
   "outputs": [
    {
     "name": "stdout",
     "output_type": "stream",
     "text": [
      "iteration 800/800       863/864\r"
     ]
    }
   ],
   "source": [
    "top5BestParams=abGridSearchCV(defaultParameters, parameterGridForModelSelection, trainData, trainLabels, winnerCriteria=\"meanLosses\", validationSplit=0.3, log=False, topn=5)"
   ]
  },
  {
   "cell_type": "code",
   "execution_count": 12,
   "metadata": {},
   "outputs": [
    {
     "data": {
      "text/plain": [
       "[{'meanLosses': 0.072376807920726011,\n",
       "  'meanTrainingLoss': 0.072214817972934775,\n",
       "  'meanValidationLoss': 0.07253879786851726,\n",
       "  'params': {'ALPHA': 0.7,\n",
       "   'ETA': 0.2,\n",
       "   'LAMBDA': 0.001,\n",
       "   'activation': 'relu',\n",
       "   'epochs': 800,\n",
       "   'hiddenUnits': 80,\n",
       "   'weightInitialization': 'xav'}},\n",
       " {'meanLosses': 0.073865404590804068,\n",
       "  'meanTrainingLoss': 0.074877710251905982,\n",
       "  'meanValidationLoss': 0.072853098929702154,\n",
       "  'params': {'ALPHA': 0.7,\n",
       "   'ETA': 0.2,\n",
       "   'LAMBDA': 0.01,\n",
       "   'activation': 'relu',\n",
       "   'epochs': 800,\n",
       "   'hiddenUnits': 80,\n",
       "   'weightInitialization': 'xav'}},\n",
       " {'meanLosses': 0.074071496601288839,\n",
       "  'meanTrainingLoss': 0.075142642736041237,\n",
       "  'meanValidationLoss': 0.073000350466536454,\n",
       "  'params': {'ALPHA': 0.7,\n",
       "   'ETA': 0.2,\n",
       "   'LAMBDA': 0.001,\n",
       "   'activation': 'relu',\n",
       "   'epochs': 800,\n",
       "   'hiddenUnits': 50,\n",
       "   'weightInitialization': 'xav'}},\n",
       " {'meanLosses': 0.074848918692942454,\n",
       "  'meanTrainingLoss': 0.076864281759301281,\n",
       "  'meanValidationLoss': 0.072833555626583626,\n",
       "  'params': {'ALPHA': 0.7,\n",
       "   'ETA': 0.2,\n",
       "   'LAMBDA': 0.01,\n",
       "   'activation': 'relu',\n",
       "   'epochs': 800,\n",
       "   'hiddenUnits': 50,\n",
       "   'weightInitialization': 'xav'}},\n",
       " {'meanLosses': 0.075499881161355337,\n",
       "  'meanTrainingLoss': 0.075738744094420871,\n",
       "  'meanValidationLoss': 0.075261018228289789,\n",
       "  'params': {'ALPHA': 0.7,\n",
       "   'ETA': 0.2,\n",
       "   'LAMBDA': 0.001,\n",
       "   'activation': 'relu',\n",
       "   'epochs': 800,\n",
       "   'hiddenUnits': 80,\n",
       "   'weightInitialization': 'he'}}]"
      ]
     },
     "execution_count": 12,
     "metadata": {},
     "output_type": "execute_result"
    }
   ],
   "source": [
    "defaultParameters['earlyStopping']=False #we don't need it to stop early during only training as we've already chosen our best params\n",
    "top5BestParams"
   ]
  },
  {
   "cell_type": "code",
   "execution_count": 13,
   "metadata": {},
   "outputs": [
    {
     "data": {
      "text/plain": [
       "{'ALPHA': 0.7,\n",
       " 'ETA': 0.2,\n",
       " 'LAMBDA': 0.001,\n",
       " 'activation': 'relu',\n",
       " 'epochs': 800,\n",
       " 'hiddenUnits': 80,\n",
       " 'weightInitialization': 'xav'}"
      ]
     },
     "execution_count": 13,
     "metadata": {},
     "output_type": "execute_result"
    }
   ],
   "source": [
    "bestParams=top5BestParams[0]['params']\n",
    "bestParams"
   ]
  },
  {
   "cell_type": "markdown",
   "metadata": {},
   "source": [
    "<a id='mlcuptrain'></a>\n",
    "### B. Training with best parameters obtained ([to top](#top))"
   ]
  },
  {
   "cell_type": "code",
   "execution_count": 14,
   "metadata": {},
   "outputs": [
    {
     "name": "stdout",
     "output_type": "stream",
     "text": [
      "iteration 800/800\r"
     ]
    }
   ],
   "source": [
    "x=perceptron(**defaultParameters)\n",
    "x.set_params(**bestParams)\n",
    "x.fit(trainData, trainLabels, realTimePlotting=False)"
   ]
  },
  {
   "cell_type": "code",
   "execution_count": 15,
   "metadata": {},
   "outputs": [
    {
     "data": {
      "text/plain": [
       "[<matplotlib.lines.Line2D at 0x7fb4afab0588>]"
      ]
     },
     "execution_count": 15,
     "metadata": {},
     "output_type": "execute_result"
    },
    {
     "data": {
      "image/png": "[encoded data removed]",
      "text/plain": [
       "<matplotlib.figure.Figure at 0x7fb4afb06dd8>"
      ]
     },
     "metadata": {},
     "output_type": "display_data"
    }
   ],
   "source": [
    "plt.plot(x.losses)"
   ]
  },
  {
   "cell_type": "code",
   "execution_count": 16,
   "metadata": {},
   "outputs": [],
   "source": [
    "def cutIt(array):\n",
    "    x=[]\n",
    "    y=[]\n",
    "    for i in array:\n",
    "        x.append(i[0])\n",
    "        y.append(i[1])\n",
    "    return x,y"
   ]
  },
  {
   "cell_type": "code",
   "execution_count": 17,
   "metadata": {},
   "outputs": [],
   "source": [
    "predictions=x.predict(trainData)"
   ]
  },
  {
   "cell_type": "code",
   "execution_count": 18,
   "metadata": {},
   "outputs": [],
   "source": [
    "xx, yy=cutIt(predictions)\n",
    "xxx,yyy=cutIt(trainLabels)"
   ]
  },
  {
   "cell_type": "code",
   "execution_count": 19,
   "metadata": {},
   "outputs": [
    {
     "data": {
      "text/plain": [
       "<matplotlib.collections.PathCollection at 0x7fb4afaa5080>"
      ]
     },
     "execution_count": 19,
     "metadata": {},
     "output_type": "execute_result"
    },
    {
     "data": {
      "image/png": "[encoded data removed]",
      "text/plain": [
       "<matplotlib.figure.Figure at 0x7fb4afaa5e10>"
      ]
     },
     "metadata": {},
     "output_type": "display_data"
    }
   ],
   "source": [
    "plt.scatter(xx,yy, alpha=0.9, s=10)\n",
    "plt.scatter(xxx,yyy, alpha= 0.5, s = 2, marker='^')"
   ]
  },
  {
   "cell_type": "markdown",
   "metadata": {},
   "source": [
    "<a id='mlcupcv'></a>\n",
    "### C. Training with best parameters obtained, with validation ([to top](#top))"
   ]
  },
  {
   "cell_type": "code",
   "execution_count": 20,
   "metadata": {},
   "outputs": [
    {
     "name": "stdout",
     "output_type": "stream",
     "text": [
      "iteration 800/800\r"
     ]
    }
   ],
   "source": [
    "x=perceptron(**defaultParameters)\n",
    "x.set_params(**bestParams)\n",
    "x.fit(trainDataCup, trainLabelsCup, validationDataCup, validationLabelsCup, realTimePlotting=False)"
   ]
  },
  {
   "cell_type": "code",
   "execution_count": 21,
   "metadata": {},
   "outputs": [
    {
     "data": {
      "text/plain": [
       "[<matplotlib.lines.Line2D at 0x7fb4afb06748>]"
      ]
     },
     "execution_count": 21,
     "metadata": {},
     "output_type": "execute_result"
    },
    {
     "data": {
      "image/png": "[encoded data removed]",
      "text/plain": [
       "<matplotlib.figure.Figure at 0x7fb4afb063c8>"
      ]
     },
     "metadata": {},
     "output_type": "display_data"
    }
   ],
   "source": [
    "plt.plot(x.losses)\n",
    "plt.plot(x.validationLosses)"
   ]
  },
  {
   "cell_type": "markdown",
   "metadata": {},
   "source": [
    "<a id='blindtest'></a>\n",
    "### D. Blind Test ([to top](#top))"
   ]
  },
  {
   "cell_type": "markdown",
   "metadata": {},
   "source": [
    "<h3> predicting on model trained with cross validation"
   ]
  },
  {
   "cell_type": "code",
   "execution_count": 22,
   "metadata": {},
   "outputs": [],
   "source": [
    "blindPredictions=x.predict(blindFeatures)"
   ]
  },
  {
   "cell_type": "code",
   "execution_count": 23,
   "metadata": {},
   "outputs": [
    {
     "data": {
      "text/plain": [
       "<matplotlib.collections.PathCollection at 0x7fb4ab2b8c50>"
      ]
     },
     "execution_count": 23,
     "metadata": {},
     "output_type": "execute_result"
    },
    {
     "data": {
      "image/png": "[encoded data removed]",
      "text/plain": [
       "<matplotlib.figure.Figure at 0x7fb4ab366320>"
      ]
     },
     "metadata": {},
     "output_type": "display_data"
    }
   ],
   "source": [
    "xx, yy=cutIt(blindPredictions)\n",
    "xxx,yyy=cutIt(trainLabelsCup)\n",
    "plt.scatter(xx,yy,alpha= 0.9, s = 10, marker='^')\n",
    "plt.scatter(xxx,yyy, alpha= 0.5, s = 2)"
   ]
  },
  {
   "cell_type": "code",
   "execution_count": null,
   "metadata": {},
   "outputs": [],
   "source": []
  },
  {
   "cell_type": "code",
   "execution_count": null,
   "metadata": {},
   "outputs": [],
   "source": []
  },
  {
   "cell_type": "code",
   "execution_count": 24,
   "metadata": {},
   "outputs": [
    {
     "name": "stdout",
     "output_type": "stream",
     "text": [
      "iteration 800/800\r"
     ]
    }
   ],
   "source": [
    "regressionModel=perceptron(**defaultParameters)\n",
    "regressionModel.set_params(**bestParams)\n",
    "regressionModel.fit(trainDataCup, trainLabelsCup, realTimePlotting=False)\n",
    "blindPredictions=regressionModel.predict(blindFeatures)"
   ]
  },
  {
   "cell_type": "code",
   "execution_count": 25,
   "metadata": {},
   "outputs": [
    {
     "data": {
      "text/plain": [
       "[<matplotlib.lines.Line2D at 0x7fb4ab21f5f8>]"
      ]
     },
     "execution_count": 25,
     "metadata": {},
     "output_type": "execute_result"
    },
    {
     "data": {
      "image/png": "[encoded data removed]",
      "text/plain": [
       "<matplotlib.figure.Figure at 0x7fb4afab0ba8>"
      ]
     },
     "metadata": {},
     "output_type": "display_data"
    }
   ],
   "source": [
    "plt.plot(regressionModel.losses)"
   ]
  },
  {
   "cell_type": "code",
   "execution_count": 26,
   "metadata": {},
   "outputs": [],
   "source": [
    "blindPredictions=regressionModel.predict(blindFeatures)"
   ]
  },
  {
   "cell_type": "code",
   "execution_count": 27,
   "metadata": {},
   "outputs": [
    {
     "data": {
      "text/plain": [
       "<matplotlib.collections.PathCollection at 0x7fb4123ee908>"
      ]
     },
     "execution_count": 27,
     "metadata": {},
     "output_type": "execute_result"
    },
    {
     "data": {
      "image/png": "[encoded data removed]",
      "text/plain": [
       "<matplotlib.figure.Figure at 0x7fb4afa345c0>"
      ]
     },
     "metadata": {},
     "output_type": "display_data"
    }
   ],
   "source": [
    "xx, yy=cutIt(blindPredictions)\n",
    "xxx,yyy=cutIt(trainLabelsCup)\n",
    "plt.scatter(xx,yy,alpha= 0.9, s = 10, marker='^')\n",
    "plt.scatter(xxx,yyy, alpha= 0.5, s = 2)"
   ]
  },
  {
   "cell_type": "code",
   "execution_count": null,
   "metadata": {},
   "outputs": [],
   "source": []
  }
 ],
 "metadata": {
  "kernelspec": {
   "display_name": "Python 3",
   "language": "python",
   "name": "python3"
  },
  "language_info": {
   "codemirror_mode": {
    "name": "ipython",
    "version": 3
   },
   "file_extension": ".py",
   "mimetype": "text/x-python",
   "name": "python",
   "nbconvert_exporter": "python",
   "pygments_lexer": "ipython3",
   "version": "3.6.7"
  }
 },
 "nbformat": 4,
 "nbformat_minor": 2
}
