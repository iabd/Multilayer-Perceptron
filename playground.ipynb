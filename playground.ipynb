{
 "cells": [
  {
   "cell_type": "markdown",
   "metadata": {},
   "source": [
    "<b>Python version:</b>  >3.6<br/>\n",
    "<b>External Packages:</b> pandas, matplotlib, sklearn, numpy<br/>\n",
    "<b>Last update:</b> 31st Jan 2018\n",
    "\n",
    "<b>About this project:</b> This is an academic project, submitted as a part of semester credits in \"Machine Learning by <a href=\"http://pages.di.unipi.it/micheli/\">Prof. Micheli </a>\" at Università di Pisa. \n",
    "</span>"
   ]
  },
  {
   "cell_type": "markdown",
   "metadata": {},
   "source": [
    "<a id='top'></a>\n",
    "# *Demonstration of Perceptron Model*\n",
    "\n",
    "In this notebook, the perceptron model is demonstrated and tested. The model is functional perceptron model is developed from the scratch. The aim was to implement our understanidng of perceptron model and to test the effect of various hyper-parameters. It is a very flexible model with support of classification as well as regression tasks. This model supports hyper parameters such as learning rate, momentum, regularization, weight initialization types etc. Almost every parameter can be passed through grid search and can be tuned. <br>\n",
    "<br>\n",
    "Grid search with cross validation is also developed in addition, to try different combinations of hyperparameters in order to do classification/regression tasks. Grid search returns the log(if log=True) and the list of best hyperparameters (length depends upon 'topn' function parameter). The hyper parameters are chosen according to either least trainingLoss or least validationLoss or the mean of two. \n"
   ]
  },
  {
   "cell_type": "markdown",
   "metadata": {},
   "source": [
    "## Table of Contents\n",
    "\n",
    "1. [Experiments on Monk 1 dataset](#monk1)\n",
    "    1. [Grid Search on Monk 1](#monk1gs)\n",
    "    2. [Training Monk1 with best parameters obtained](#monk1train)\n",
    "    3. [Testing Monk1](#monk1test)\n",
    "    4. [Training monk1 with best parameters obtained, with cross validation](#monk1cv)\n",
    "2. [Experiments on Monk 2 dataset](#monk2)\n",
    "    1. [Grid Search on Monk 2](#monk2gs)\n",
    "    2. [Training Monk 2 with best parameters obtained](#monk2train)\n",
    "    3. [Testing Monk 2](#monk2test)\n",
    "    4. [Training monk 3 with best parameters obtained, with cross validation](#monk2cv)\n",
    "3. [Experiments on Monk 3 dataset](#monk3)\n",
    "    1. [Grid Search on Monk 3](#monk3gs)\n",
    "    2. [Training Monk 3 with best parameters obtained](#monk3train)\n",
    "    3. [Testing Monk 3](#monk3test)\n",
    "    4. [Training monk 3 with best parameters obtained, with cross validation](#monk3cv)\n",
    "        \n",
    "4. [Regression Problem | ML Cup](#mlcup)\n",
    "    1. [Grid search on regression problem](#mlcupgs)\n",
    "    2. [Training with with best parameters obtained](#mlcuptrain)\n",
    "    3. [Training with cross validation, with best parameters](#mlcupcv)\n",
    "    4. [Blind Test](#blindtest)"
   ]
  },
  {
   "cell_type": "code",
   "execution_count": null,
   "metadata": {},
   "outputs": [],
   "source": []
  },
  {
   "cell_type": "code",
   "execution_count": 1,
   "metadata": {},
   "outputs": [],
   "source": [
    "import pdb, time\n",
    "import numpy as np\n",
    "import pandas as pd\n",
    "import matplotlib.pyplot as plt\n",
    "from sklearn.model_selection import train_test_split\n",
    "%matplotlib inline\n",
    "import sklearn.preprocessing as preprocessing\n",
    "from itertools import product"
   ]
  },
  {
   "cell_type": "code",
   "execution_count": null,
   "metadata": {},
   "outputs": [],
   "source": []
  },
  {
   "cell_type": "code",
   "execution_count": 2,
   "metadata": {},
   "outputs": [],
   "source": [
    "from source.perceptron import perceptron\n",
    "from source.abGridSearchCV import abGridSearchCV\n",
    "from source.loadData import loadMonk"
   ]
  },
  {
   "cell_type": "markdown",
   "metadata": {},
   "source": [
    "<a id='monk1'></a>\n",
    "# 0. Monk Datasets ([to top](#top))"
   ]
  },
  {
   "cell_type": "markdown",
   "metadata": {},
   "source": [
    "Attributes with granularity:\n",
    "a1: 1, 2, 3\n",
    "a2: 1, 2, 3\n",
    "a3: 1, 2\n",
    "a4: 1, 2, 3\n",
    "a5: 1, 2, 3, 4\n",
    "a6: 1, 2\n",
    "target: 0, 1\n",
    "\n",
    "#### In Monk 1 Dataset, the targets are 1 if (a1==a2) or (a5==1)\n",
    "\n",
    "#### In Monk 2 Dataset, the targets are 1 if exactly two of {a1 = 1, a2 = 1, a3 = 1, a4 = 1, a5 = 1, a6 = 1} are correct. \n",
    "\n",
    "#### In Monk 3 Dataset, targets are 1 if (a5 = 3 and a4 = 1) or (a5 /= 4 and a2 /= 3).\n",
    "\n",
    "```\n",
    "Carnegie Mellon University Pittsburgh, PA 15213, USA E-mail: thrun '@' cs.cmu. edu.\n",
    "```"
   ]
  },
  {
   "cell_type": "markdown",
   "metadata": {},
   "source": [
    "<a id='monk1'></a>\n",
    "# 1. Experiments on Monk 1 ([to top](#top))"
   ]
  },
  {
   "cell_type": "code",
   "execution_count": 3,
   "metadata": {},
   "outputs": [],
   "source": [
    "trainData, trainLabels=loadMonk(1, 'train', encodeLabel=False)"
   ]
  },
  {
   "cell_type": "markdown",
   "metadata": {},
   "source": [
    "<a id='monk1gs'></a>\n",
    "### A. Grid Search on Monk1 ([to top](#top))"
   ]
  },
  {
   "cell_type": "markdown",
   "metadata": {},
   "source": [
    "ETA is learning rate,\n",
    "LAMBDA is regularization parameter,\n",
    "ALPHA is momentum,"
   ]
  },
  {
   "cell_type": "code",
   "execution_count": 4,
   "metadata": {},
   "outputs": [],
   "source": [
    "defaultParameters={\n",
    "    'hiddenUnits':3,\n",
    "    'randomSeed':0,\n",
    "    'activation':'sigm',\n",
    "    'epochs':200,\n",
    "    'ETA':0.4,\n",
    "    'LAMBDA':0.0,\n",
    "    'loss':\"MEE\",\n",
    "    'ALPHA':0.9,\n",
    "    'weightInitialization':'xav',\n",
    "    'regression':False\n",
    "}\n",
    "\n",
    "parameterGridForModelSelection={\n",
    "#     'randomSeed':[0, 20],\n",
    "    'hiddenUnits':[4, 16],\n",
    "    'activation':['sigm', 'relu', 'tanh'],\n",
    "    'ETA':[0.1, 0.2, 0.3, 0.5, 0.7,0.9],\n",
    "    'LAMBDA':[0.001,0.01],\n",
    "    'ALPHA':[0.2, 0.5, 0.7, 0.9],\n",
    "#     'weightInitialization':['xav', 'type1', 'type2'],\n",
    "    'epochs':[300, 500]\n",
    "}"
   ]
  },
  {
   "cell_type": "code",
   "execution_count": 5,
   "metadata": {},
   "outputs": [
    {
     "name": "stdout",
     "output_type": "stream",
     "text": [
      "iteration 500/500       575/576\r"
     ]
    }
   ],
   "source": [
    "top5BestParams=abGridSearchCV(defaultParameters, parameterGridForModelSelection, trainData, trainLabels, winnerCriteria=\"meanLosses\", validationSplit=0.3, log=False, topn=5)"
   ]
  },
  {
   "cell_type": "code",
   "execution_count": 6,
   "metadata": {
    "scrolled": true
   },
   "outputs": [
    {
     "data": {
      "text/plain": [
       "[{'meanLosses': 0.053398468491707193,\n",
       "  'meanTrainingLoss': 0.045918603297790385,\n",
       "  'meanValidationLoss': 0.060878333685624002,\n",
       "  'params': {'ALPHA': 0.9,\n",
       "   'ETA': 0.7,\n",
       "   'LAMBDA': 0.001,\n",
       "   'activation': 'sigm',\n",
       "   'epochs': 500,\n",
       "   'hiddenUnits': 4}},\n",
       " {'meanLosses': 0.056483538526203809,\n",
       "  'meanTrainingLoss': 0.048952574490511325,\n",
       "  'meanValidationLoss': 0.064014502561896294,\n",
       "  'params': {'ALPHA': 0.7,\n",
       "   'ETA': 0.9,\n",
       "   'LAMBDA': 0.001,\n",
       "   'activation': 'sigm',\n",
       "   'epochs': 500,\n",
       "   'hiddenUnits': 4}},\n",
       " {'meanLosses': 0.058464538603792783,\n",
       "  'meanTrainingLoss': 0.050140872761654159,\n",
       "  'meanValidationLoss': 0.066788204445931407,\n",
       "  'params': {'ALPHA': 0.7,\n",
       "   'ETA': 0.7,\n",
       "   'LAMBDA': 0.001,\n",
       "   'activation': 'sigm',\n",
       "   'epochs': 500,\n",
       "   'hiddenUnits': 4}},\n",
       " {'meanLosses': 0.060699319101547106,\n",
       "  'meanTrainingLoss': 0.055375540019551382,\n",
       "  'meanValidationLoss': 0.066023098183542822,\n",
       "  'params': {'ALPHA': 0.9,\n",
       "   'ETA': 0.9,\n",
       "   'LAMBDA': 0.001,\n",
       "   'activation': 'sigm',\n",
       "   'epochs': 500,\n",
       "   'hiddenUnits': 4}},\n",
       " {'meanLosses': 0.061461445198602492,\n",
       "  'meanTrainingLoss': 0.054681742568130659,\n",
       "  'meanValidationLoss': 0.068241147829074325,\n",
       "  'params': {'ALPHA': 0.5,\n",
       "   'ETA': 0.5,\n",
       "   'LAMBDA': 0.001,\n",
       "   'activation': 'sigm',\n",
       "   'epochs': 500,\n",
       "   'hiddenUnits': 4}}]"
      ]
     },
     "execution_count": 6,
     "metadata": {},
     "output_type": "execute_result"
    }
   ],
   "source": [
    "top5BestParams"
   ]
  },
  {
   "cell_type": "code",
   "execution_count": 7,
   "metadata": {},
   "outputs": [],
   "source": [
    "bestParams=top5BestParams[0]['params']"
   ]
  },
  {
   "cell_type": "code",
   "execution_count": 8,
   "metadata": {},
   "outputs": [
    {
     "data": {
      "text/plain": [
       "{'ALPHA': 0.9,\n",
       " 'ETA': 0.7,\n",
       " 'LAMBDA': 0.001,\n",
       " 'activation': 'sigm',\n",
       " 'epochs': 500,\n",
       " 'hiddenUnits': 4}"
      ]
     },
     "execution_count": 8,
     "metadata": {},
     "output_type": "execute_result"
    }
   ],
   "source": [
    "bestParams"
   ]
  },
  {
   "cell_type": "markdown",
   "metadata": {},
   "source": [
    "<a id='monk1train'></a>\n",
    "### B. Training Monk 1 with best parameters obtained ([to top](#top))"
   ]
  },
  {
   "cell_type": "markdown",
   "metadata": {},
   "source": [
    "<h5> For fun.. testing a neural network initialized with zero weights"
   ]
  },
  {
   "cell_type": "code",
   "execution_count": 9,
   "metadata": {},
   "outputs": [
    {
     "name": "stdout",
     "output_type": "stream",
     "text": [
      "iteration 500/500\r"
     ]
    }
   ],
   "source": [
    "x=perceptron(**defaultParameters)\n",
    "x.set_params(**bestParams)\n",
    "x.set_params(weightInitialization='zero')\n",
    "x.fit(trainData, trainLabels)"
   ]
  },
  {
   "cell_type": "code",
   "execution_count": 10,
   "metadata": {},
   "outputs": [
    {
     "data": {
      "text/plain": [
       "[<matplotlib.lines.Line2D at 0x7f609110fba8>]"
      ]
     },
     "execution_count": 10,
     "metadata": {},
     "output_type": "execute_result"
    },
    {
     "data": {
      "image/png": "[encoded data removed]",
      "text/plain": [
       "<matplotlib.figure.Figure at 0x7f609387db38>"
      ]
     },
     "metadata": {},
     "output_type": "display_data"
    }
   ],
   "source": [
    "plt.plot(x.losses)"
   ]
  },
  {
   "cell_type": "code",
   "execution_count": 11,
   "metadata": {},
   "outputs": [
    {
     "data": {
      "text/plain": [
       "[<matplotlib.lines.Line2D at 0x7f609109ab00>]"
      ]
     },
     "execution_count": 11,
     "metadata": {},
     "output_type": "execute_result"
    },
    {
     "data": {
      "image/png": "[encoded data removed]",
      "text/plain": [
       "<matplotlib.figure.Figure at 0x7f609116c668>"
      ]
     },
     "metadata": {},
     "output_type": "display_data"
    }
   ],
   "source": [
    "plt.plot(x.accuracies)"
   ]
  },
  {
   "cell_type": "code",
   "execution_count": 12,
   "metadata": {},
   "outputs": [],
   "source": [
    "testData, testLabels=loadMonk(1, 'test', encodeLabel=False)\n",
    "testResults, testAccuracy=x.predict(testData, testLabels, acc_=True)"
   ]
  },
  {
   "cell_type": "code",
   "execution_count": 13,
   "metadata": {},
   "outputs": [
    {
     "data": {
      "text/plain": [
       "0.5"
      ]
     },
     "execution_count": 13,
     "metadata": {},
     "output_type": "execute_result"
    }
   ],
   "source": [
    "testAccuracy"
   ]
  },
  {
   "cell_type": "markdown",
   "metadata": {},
   "source": [
    "<h5> fun's over!!!; now let's train our network with best params"
   ]
  },
  {
   "cell_type": "code",
   "execution_count": 14,
   "metadata": {},
   "outputs": [
    {
     "name": "stdout",
     "output_type": "stream",
     "text": [
      "iteration 500/500\r"
     ]
    }
   ],
   "source": [
    "x=perceptron(**defaultParameters)\n",
    "x.set_params(**bestParams)\n",
    "x.fit(trainData, trainLabels)"
   ]
  },
  {
   "cell_type": "code",
   "execution_count": 15,
   "metadata": {},
   "outputs": [
    {
     "data": {
      "text/plain": [
       "[<matplotlib.lines.Line2D at 0x7f609107bc50>]"
      ]
     },
     "execution_count": 15,
     "metadata": {},
     "output_type": "execute_result"
    },
    {
     "data": {
      "image/png": "[encoded data removed]",
      "text/plain": [
       "<matplotlib.figure.Figure at 0x7f60911666a0>"
      ]
     },
     "metadata": {},
     "output_type": "display_data"
    }
   ],
   "source": [
    "plt.plot(x.losses)"
   ]
  },
  {
   "cell_type": "code",
   "execution_count": 16,
   "metadata": {},
   "outputs": [
    {
     "data": {
      "text/plain": [
       "[<matplotlib.lines.Line2D at 0x7f608e922b70>]"
      ]
     },
     "execution_count": 16,
     "metadata": {},
     "output_type": "execute_result"
    },
    {
     "data": {
      "image/png": "[encoded data removed]",
      "text/plain": [
       "<matplotlib.figure.Figure at 0x7f6091015b70>"
      ]
     },
     "metadata": {},
     "output_type": "display_data"
    }
   ],
   "source": [
    "plt.plot(x.accuracies)"
   ]
  },
  {
   "cell_type": "markdown",
   "metadata": {},
   "source": [
    "<a id='monk1test'></a>\n",
    "### B. Testing Monk 1 trained model([to top](#top))"
   ]
  },
  {
   "cell_type": "code",
   "execution_count": 17,
   "metadata": {},
   "outputs": [],
   "source": [
    "testData, testLabels=loadMonk(1, 'test', encodeLabel=False)"
   ]
  },
  {
   "cell_type": "code",
   "execution_count": 18,
   "metadata": {},
   "outputs": [],
   "source": [
    "testResults, testAccuracy=x.predict(testData, testLabels, acc_=True)"
   ]
  },
  {
   "cell_type": "code",
   "execution_count": 19,
   "metadata": {},
   "outputs": [
    {
     "data": {
      "text/plain": [
       "1.0"
      ]
     },
     "execution_count": 19,
     "metadata": {},
     "output_type": "execute_result"
    }
   ],
   "source": [
    "testAccuracy"
   ]
  },
  {
   "cell_type": "markdown",
   "metadata": {},
   "source": [
    "<a id='monk1cv'></a>\n",
    "### C. Training Monk 1 with best parameters obtained, with cross validation ([to top](#top))"
   ]
  },
  {
   "cell_type": "code",
   "execution_count": 20,
   "metadata": {},
   "outputs": [],
   "source": [
    "trainData, trainLabels=loadMonk(1, 'train', encodeLabel=False)\n",
    "trainData, validationData, trainLabels, validationLabels=train_test_split(trainData, trainLabels, test_size=0.1)"
   ]
  },
  {
   "cell_type": "code",
   "execution_count": 21,
   "metadata": {},
   "outputs": [
    {
     "name": "stdout",
     "output_type": "stream",
     "text": [
      "iteration 500/500\r"
     ]
    }
   ],
   "source": [
    "x=perceptron(**defaultParameters)\n",
    "x.set_params(**bestParams)\n",
    "x.fit(trainData, trainLabels, validationFeatures=validationData, validationLabels=validationLabels)"
   ]
  },
  {
   "cell_type": "code",
   "execution_count": 22,
   "metadata": {},
   "outputs": [
    {
     "data": {
      "text/plain": [
       "[<matplotlib.lines.Line2D at 0x7f608e939e48>]"
      ]
     },
     "execution_count": 22,
     "metadata": {},
     "output_type": "execute_result"
    },
    {
     "data": {
      "image/png": "[encoded data removed]",
      "text/plain": [
       "<matplotlib.figure.Figure at 0x7f608e9396d8>"
      ]
     },
     "metadata": {},
     "output_type": "display_data"
    }
   ],
   "source": [
    "plt.plot(x.accuracies)\n",
    "plt.plot(x.validationAccuracies)"
   ]
  },
  {
   "cell_type": "code",
   "execution_count": 23,
   "metadata": {},
   "outputs": [
    {
     "data": {
      "text/plain": [
       "[<matplotlib.lines.Line2D at 0x7f6091015198>]"
      ]
     },
     "execution_count": 23,
     "metadata": {},
     "output_type": "execute_result"
    },
    {
     "data": {
      "image/png": "[encoded data removed]",
      "text/plain": [
       "<matplotlib.figure.Figure at 0x7f608e8efc18>"
      ]
     },
     "metadata": {},
     "output_type": "display_data"
    }
   ],
   "source": [
    "plt.plot(x.losses)\n",
    "plt.plot(x.validationLosses)"
   ]
  },
  {
   "cell_type": "markdown",
   "metadata": {},
   "source": [
    "<a id='monk2'></a>\n",
    "# 2. Monk 2 ([to top](#top))"
   ]
  },
  {
   "cell_type": "code",
   "execution_count": 24,
   "metadata": {},
   "outputs": [],
   "source": [
    "trainData, trainLabels=loadMonk(2, 'train', encodeLabel=False)"
   ]
  },
  {
   "cell_type": "markdown",
   "metadata": {},
   "source": [
    "<a id='monk2gs'></a>\n",
    "### A. Grid Search on Monk 2 ([to top](#top))"
   ]
  },
  {
   "cell_type": "code",
   "execution_count": 25,
   "metadata": {},
   "outputs": [
    {
     "name": "stdout",
     "output_type": "stream",
     "text": [
      "iteration 500/500       575/576\r"
     ]
    }
   ],
   "source": [
    "top5BestParams=abGridSearchCV(defaultParameters, parameterGridForModelSelection, trainData, trainLabels, winnerCriteria=\"meanLosses\", validationSplit=0.3, log=False, topn=5)"
   ]
  },
  {
   "cell_type": "code",
   "execution_count": 26,
   "metadata": {},
   "outputs": [
    {
     "data": {
      "text/plain": [
       "[{'meanLosses': 0.066685408710796298,\n",
       "  'meanTrainingLoss': 0.060447339958722986,\n",
       "  'meanValidationLoss': 0.072923477462869604,\n",
       "  'params': {'ALPHA': 0.9,\n",
       "   'ETA': 0.3,\n",
       "   'LAMBDA': 0.001,\n",
       "   'activation': 'sigm',\n",
       "   'epochs': 500,\n",
       "   'hiddenUnits': 4}},\n",
       " {'meanLosses': 0.069998958696422642,\n",
       "  'meanTrainingLoss': 0.063387071770645911,\n",
       "  'meanValidationLoss': 0.076610845622199358,\n",
       "  'params': {'ALPHA': 0.7,\n",
       "   'ETA': 0.3,\n",
       "   'LAMBDA': 0.001,\n",
       "   'activation': 'sigm',\n",
       "   'epochs': 500,\n",
       "   'hiddenUnits': 4}},\n",
       " {'meanLosses': 0.073795326852853962,\n",
       "  'meanTrainingLoss': 0.065396272472380612,\n",
       "  'meanValidationLoss': 0.082194381233327313,\n",
       "  'params': {'ALPHA': 0.7,\n",
       "   'ETA': 0.5,\n",
       "   'LAMBDA': 0.001,\n",
       "   'activation': 'sigm',\n",
       "   'epochs': 500,\n",
       "   'hiddenUnits': 4}},\n",
       " {'meanLosses': 0.076765077483135991,\n",
       "  'meanTrainingLoss': 0.068847619529267629,\n",
       "  'meanValidationLoss': 0.084682535437004339,\n",
       "  'params': {'ALPHA': 0.5,\n",
       "   'ETA': 0.3,\n",
       "   'LAMBDA': 0.001,\n",
       "   'activation': 'sigm',\n",
       "   'epochs': 500,\n",
       "   'hiddenUnits': 4}},\n",
       " {'meanLosses': 0.076879234122589457,\n",
       "  'meanTrainingLoss': 0.068330821770582001,\n",
       "  'meanValidationLoss': 0.085427646474596913,\n",
       "  'params': {'ALPHA': 0.5,\n",
       "   'ETA': 0.5,\n",
       "   'LAMBDA': 0.001,\n",
       "   'activation': 'sigm',\n",
       "   'epochs': 500,\n",
       "   'hiddenUnits': 4}}]"
      ]
     },
     "execution_count": 26,
     "metadata": {},
     "output_type": "execute_result"
    }
   ],
   "source": [
    "top5BestParams"
   ]
  },
  {
   "cell_type": "code",
   "execution_count": 27,
   "metadata": {},
   "outputs": [],
   "source": [
    "bestParams=top5BestParams[0]['params']"
   ]
  },
  {
   "cell_type": "markdown",
   "metadata": {},
   "source": [
    "<a id='monk2train'></a>\n",
    "### B. Training Monk 2 with the best parameters obtained([to top](#top))"
   ]
  },
  {
   "cell_type": "code",
   "execution_count": 28,
   "metadata": {},
   "outputs": [
    {
     "name": "stdout",
     "output_type": "stream",
     "text": [
      "iteration 500/500\r"
     ]
    }
   ],
   "source": [
    "x=perceptron(**defaultParameters)\n",
    "x.set_params(**bestParams)\n",
    "x.fit(trainData, trainLabels)"
   ]
  },
  {
   "cell_type": "code",
   "execution_count": 29,
   "metadata": {},
   "outputs": [
    {
     "data": {
      "text/plain": [
       "[<matplotlib.lines.Line2D at 0x7f608c09b630>]"
      ]
     },
     "execution_count": 29,
     "metadata": {},
     "output_type": "execute_result"
    },
    {
     "data": {
      "image/png": "[encoded data removed]",
      "text/plain": [
       "<matplotlib.figure.Figure at 0x7f608e8164e0>"
      ]
     },
     "metadata": {},
     "output_type": "display_data"
    }
   ],
   "source": [
    "plt.plot(x.accuracies)"
   ]
  },
  {
   "cell_type": "code",
   "execution_count": 30,
   "metadata": {},
   "outputs": [
    {
     "data": {
      "text/plain": [
       "[<matplotlib.lines.Line2D at 0x7f608c07c7f0>]"
      ]
     },
     "execution_count": 30,
     "metadata": {},
     "output_type": "execute_result"
    },
    {
     "data": {
      "image/png": "[encoded data removed]",
      "text/plain": [
       "<matplotlib.figure.Figure at 0x7f608e8e0e10>"
      ]
     },
     "metadata": {},
     "output_type": "display_data"
    }
   ],
   "source": [
    "plt.plot(x.losses)"
   ]
  },
  {
   "cell_type": "markdown",
   "metadata": {},
   "source": [
    "<a id='monk2test'></a>\n",
    "### C. Testing Monk 2([to top](#top))"
   ]
  },
  {
   "cell_type": "code",
   "execution_count": 31,
   "metadata": {},
   "outputs": [],
   "source": [
    "# to see if a model trained on Monk2 can classify Monk 1\n",
    "testData, testLabels=loadMonk(1, 'test', encodeLabel=False)\n",
    "testResults, testAccuracy=x.predict(testData, testLabels, acc_=True)"
   ]
  },
  {
   "cell_type": "code",
   "execution_count": 32,
   "metadata": {},
   "outputs": [
    {
     "data": {
      "text/plain": [
       "0.43981481481481483"
      ]
     },
     "execution_count": 32,
     "metadata": {},
     "output_type": "execute_result"
    }
   ],
   "source": [
    "testAccuracy #of Monk1 on model trained on monk2"
   ]
  },
  {
   "cell_type": "code",
   "execution_count": 33,
   "metadata": {},
   "outputs": [],
   "source": [
    "#getting serious now ;D\n",
    "testData, testLabels=loadMonk(2, 'test', encodeLabel=False)\n",
    "testResults, testAccuracy=x.predict(testData, testLabels, acc_=True)"
   ]
  },
  {
   "cell_type": "code",
   "execution_count": 34,
   "metadata": {},
   "outputs": [
    {
     "data": {
      "text/plain": [
       "1.0"
      ]
     },
     "execution_count": 34,
     "metadata": {},
     "output_type": "execute_result"
    }
   ],
   "source": [
    "testAccuracy #yayy!"
   ]
  },
  {
   "cell_type": "markdown",
   "metadata": {},
   "source": [
    "<a id='monk2cv'></a>\n",
    "### D. Training Monk 2 with the best parameters and with cross validation([to top](#top))"
   ]
  },
  {
   "cell_type": "code",
   "execution_count": 35,
   "metadata": {},
   "outputs": [
    {
     "name": "stdout",
     "output_type": "stream",
     "text": [
      "iteration 500/500\r"
     ]
    }
   ],
   "source": [
    "trainData, trainLabels=loadMonk(2, 'train', encodeLabel=False)\n",
    "trainData, validationData, trainLabels, validationLabels=train_test_split(trainData, trainLabels, test_size=0.1)\n",
    "x=perceptron(**defaultParameters)\n",
    "x.set_params(**bestParams)\n",
    "x.fit(trainData, trainLabels, validationFeatures=validationData, validationLabels=validationLabels)"
   ]
  },
  {
   "cell_type": "code",
   "execution_count": 36,
   "metadata": {},
   "outputs": [
    {
     "data": {
      "text/plain": [
       "[<matplotlib.lines.Line2D at 0x7f608c0d4e80>]"
      ]
     },
     "execution_count": 36,
     "metadata": {},
     "output_type": "execute_result"
    },
    {
     "data": {
      "image/png": "[encoded data removed]",
      "text/plain": [
       "<matplotlib.figure.Figure at 0x7f608c0d4748>"
      ]
     },
     "metadata": {},
     "output_type": "display_data"
    }
   ],
   "source": [
    "plt.plot(x.accuracies)\n",
    "plt.plot(x.validationAccuracies)"
   ]
  },
  {
   "cell_type": "code",
   "execution_count": 37,
   "metadata": {},
   "outputs": [
    {
     "data": {
      "text/plain": [
       "[<matplotlib.lines.Line2D at 0x7f608c044978>]"
      ]
     },
     "execution_count": 37,
     "metadata": {},
     "output_type": "execute_result"
    },
    {
     "data": {
      "image/png": "[encoded data removed]",
      "text/plain": [
       "<matplotlib.figure.Figure at 0x7f608c0449b0>"
      ]
     },
     "metadata": {},
     "output_type": "display_data"
    }
   ],
   "source": [
    "plt.plot(x.losses)\n",
    "plt.plot(x.validationLosses)"
   ]
  },
  {
   "cell_type": "markdown",
   "metadata": {},
   "source": [
    "<a id='monk3'></a>\n",
    "# 3. Monk 3 ([to top](#top))"
   ]
  },
  {
   "cell_type": "code",
   "execution_count": 38,
   "metadata": {},
   "outputs": [],
   "source": [
    "trainData, trainLabels=loadMonk(3, 'train', encodeLabel=False)"
   ]
  },
  {
   "cell_type": "markdown",
   "metadata": {},
   "source": [
    "<a id='monk3gs'></a>\n",
    "### A. Grid Search on Monk 3 ([to top](#top))"
   ]
  },
  {
   "cell_type": "code",
   "execution_count": 39,
   "metadata": {},
   "outputs": [
    {
     "name": "stdout",
     "output_type": "stream",
     "text": [
      "iteration 500/500       575/576\r"
     ]
    }
   ],
   "source": [
    "top5BestParams=abGridSearchCV(defaultParameters, parameterGridForModelSelection, trainData, trainLabels, winnerCriteria=\"meanLosses\", validationSplit=0.3, log=False, topn=5)"
   ]
  },
  {
   "cell_type": "code",
   "execution_count": 40,
   "metadata": {},
   "outputs": [
    {
     "data": {
      "text/plain": [
       "[{'meanLosses': 0.065228102927357257,\n",
       "  'meanTrainingLoss': 0.04457685411711515,\n",
       "  'meanValidationLoss': 0.085879351737599377,\n",
       "  'params': {'ALPHA': 0.9,\n",
       "   'ETA': 0.7,\n",
       "   'LAMBDA': 0.001,\n",
       "   'activation': 'sigm',\n",
       "   'epochs': 500,\n",
       "   'hiddenUnits': 4}},\n",
       " {'meanLosses': 0.0659745612385612,\n",
       "  'meanTrainingLoss': 0.05573462778847995,\n",
       "  'meanValidationLoss': 0.076214494688642456,\n",
       "  'params': {'ALPHA': 0.7,\n",
       "   'ETA': 0.9,\n",
       "   'LAMBDA': 0.001,\n",
       "   'activation': 'sigm',\n",
       "   'epochs': 500,\n",
       "   'hiddenUnits': 4}},\n",
       " {'meanLosses': 0.068240900149349359,\n",
       "  'meanTrainingLoss': 0.056069152305813358,\n",
       "  'meanValidationLoss': 0.080412647992885361,\n",
       "  'params': {'ALPHA': 0.9,\n",
       "   'ETA': 0.3,\n",
       "   'LAMBDA': 0.001,\n",
       "   'activation': 'sigm',\n",
       "   'epochs': 500,\n",
       "   'hiddenUnits': 4}},\n",
       " {'meanLosses': 0.07078235792723464,\n",
       "  'meanTrainingLoss': 0.05607186185276021,\n",
       "  'meanValidationLoss': 0.08549285400170907,\n",
       "  'params': {'ALPHA': 0.5,\n",
       "   'ETA': 0.5,\n",
       "   'LAMBDA': 0.001,\n",
       "   'activation': 'sigm',\n",
       "   'epochs': 500,\n",
       "   'hiddenUnits': 4}},\n",
       " {'meanLosses': 0.071248616765052689,\n",
       "  'meanTrainingLoss': 0.057508680164929209,\n",
       "  'meanValidationLoss': 0.084988553365176162,\n",
       "  'params': {'ALPHA': 0.7,\n",
       "   'ETA': 0.3,\n",
       "   'LAMBDA': 0.001,\n",
       "   'activation': 'sigm',\n",
       "   'epochs': 500,\n",
       "   'hiddenUnits': 4}}]"
      ]
     },
     "execution_count": 40,
     "metadata": {},
     "output_type": "execute_result"
    }
   ],
   "source": [
    "top5BestParams"
   ]
  },
  {
   "cell_type": "code",
   "execution_count": 41,
   "metadata": {},
   "outputs": [],
   "source": [
    "bestParams=top5BestParams[0]['params']"
   ]
  },
  {
   "cell_type": "markdown",
   "metadata": {},
   "source": [
    "<a id='monk3train'></a>\n",
    "### B. Training Monk 3 with the best parameters obtained([to top](#top))"
   ]
  },
  {
   "cell_type": "code",
   "execution_count": 42,
   "metadata": {},
   "outputs": [
    {
     "name": "stdout",
     "output_type": "stream",
     "text": [
      "iteration 500/500\r"
     ]
    }
   ],
   "source": [
    "x=perceptron(**defaultParameters)\n",
    "x.set_params(**bestParams)\n",
    "x.fit(trainData, trainLabels)"
   ]
  },
  {
   "cell_type": "code",
   "execution_count": 43,
   "metadata": {},
   "outputs": [
    {
     "data": {
      "text/plain": [
       "[<matplotlib.lines.Line2D at 0x7f608982f5f8>]"
      ]
     },
     "execution_count": 43,
     "metadata": {},
     "output_type": "execute_result"
    },
    {
     "data": {
      "image/png": "[encoded data removed]",
      "text/plain": [
       "<matplotlib.figure.Figure at 0x7f60898fff60>"
      ]
     },
     "metadata": {},
     "output_type": "display_data"
    }
   ],
   "source": [
    "plt.plot(x.accuracies)"
   ]
  },
  {
   "cell_type": "code",
   "execution_count": 44,
   "metadata": {},
   "outputs": [
    {
     "data": {
      "text/plain": [
       "[<matplotlib.lines.Line2D at 0x7f60871a4470>]"
      ]
     },
     "execution_count": 44,
     "metadata": {},
     "output_type": "execute_result"
    },
    {
     "data": {
      "image/png": "[encoded data removed]",
      "text/plain": [
       "<matplotlib.figure.Figure at 0x7f60898417b8>"
      ]
     },
     "metadata": {},
     "output_type": "display_data"
    }
   ],
   "source": [
    "plt.plot(x.losses)"
   ]
  },
  {
   "cell_type": "markdown",
   "metadata": {},
   "source": [
    "<a id='monk3test'></a>\n",
    "### C. Testing Monk 3 trained Model([to top](#top))"
   ]
  },
  {
   "cell_type": "code",
   "execution_count": 45,
   "metadata": {},
   "outputs": [],
   "source": [
    "testData, testLabels=loadMonk(3, 'test', encodeLabel=False)\n",
    "testResults, testAccuracy=x.predict(testData, testLabels, acc_=True)"
   ]
  },
  {
   "cell_type": "code",
   "execution_count": 46,
   "metadata": {},
   "outputs": [
    {
     "data": {
      "text/plain": [
       "0.9467592592592593"
      ]
     },
     "execution_count": 46,
     "metadata": {},
     "output_type": "execute_result"
    }
   ],
   "source": [
    "testAccuracy"
   ]
  },
  {
   "cell_type": "markdown",
   "metadata": {},
   "source": [
    "<a id='monk3cv'></a>\n",
    "### D. Training monk 3 with the best parameters and with cross validation([to top](#top))"
   ]
  },
  {
   "cell_type": "code",
   "execution_count": 47,
   "metadata": {},
   "outputs": [
    {
     "name": "stdout",
     "output_type": "stream",
     "text": [
      "iteration 500/500\r"
     ]
    }
   ],
   "source": [
    "trainData, trainLabels=loadMonk(3, 'train', encodeLabel=False)\n",
    "trainData, validationData, trainLabels, validationLabels=train_test_split(trainData, trainLabels, test_size=0.2)\n",
    "x=perceptron(**defaultParameters)\n",
    "x.set_params(**bestParams)\n",
    "x.fit(trainData, trainLabels, validationFeatures=validationData, validationLabels=validationLabels)"
   ]
  },
  {
   "cell_type": "code",
   "execution_count": 48,
   "metadata": {},
   "outputs": [
    {
     "data": {
      "text/plain": [
       "[<matplotlib.lines.Line2D at 0x7f60898577f0>]"
      ]
     },
     "execution_count": 48,
     "metadata": {},
     "output_type": "execute_result"
    },
    {
     "data": {
      "image/png": "[encoded data removed]",
      "text/plain": [
       "<matplotlib.figure.Figure at 0x7f6089857fd0>"
      ]
     },
     "metadata": {},
     "output_type": "display_data"
    }
   ],
   "source": [
    "plt.plot(x.accuracies)\n",
    "plt.plot(x.validationAccuracies)"
   ]
  },
  {
   "cell_type": "code",
   "execution_count": 49,
   "metadata": {},
   "outputs": [
    {
     "data": {
      "text/plain": [
       "[<matplotlib.lines.Line2D at 0x7f6087179438>]"
      ]
     },
     "execution_count": 49,
     "metadata": {},
     "output_type": "execute_result"
    },
    {
     "data": {
      "image/png": "[encoded data removed]",
      "text/plain": [
       "<matplotlib.figure.Figure at 0x7f6087179d30>"
      ]
     },
     "metadata": {},
     "output_type": "display_data"
    }
   ],
   "source": [
    "plt.plot(x.losses)\n",
    "plt.plot(x.validationLosses)"
   ]
  },
  {
   "cell_type": "markdown",
   "metadata": {},
   "source": [
    "<a id='mlcup'></a>\n",
    "# 4. Regression Problem | ML Cup([to top](#top))"
   ]
  },
  {
   "cell_type": "markdown",
   "metadata": {},
   "source": [
    "The dataset (ML Cup) contains 10 features and 2 labels. Both features and lables are continuous values. \n",
    "The dataset contains 1015 rows for training. The blind test data contains 315 unlabled rows with 10 columns. \n",
    "```\n",
    "Dataset provided by Prof. Alessio Micheli, Università di Pisa.\n",
    "```"
   ]
  },
  {
   "cell_type": "markdown",
   "metadata": {},
   "source": [
    "<h4>Data preparation"
   ]
  },
  {
   "cell_type": "code",
   "execution_count": 3,
   "metadata": {},
   "outputs": [
    {
     "data": {
      "text/plain": [
       "1015"
      ]
     },
     "execution_count": 3,
     "metadata": {},
     "output_type": "execute_result"
    }
   ],
   "source": [
    "cupTrain=pd.read_csv('data/mlCup/ML-CUP18-TR.csv', skiprows=9, usecols=range(1,13))\n",
    "colums=[\"i{}\".format(i) for i in range(1,11)]+['classX', 'classY']\n",
    "cupTrain.columns=colums\n",
    "len(cupTrain)"
   ]
  },
  {
   "cell_type": "code",
   "execution_count": 11,
   "metadata": {},
   "outputs": [],
   "source": [
    "features=cupTrain.drop(['classX','classY'],axis = 1).values\n",
    "labels=cupTrain[['classX', 'classY']].values"
   ]
  },
  {
   "cell_type": "code",
   "execution_count": 4,
   "metadata": {},
   "outputs": [
    {
     "data": {
      "text/plain": [
       "315"
      ]
     },
     "execution_count": 4,
     "metadata": {},
     "output_type": "execute_result"
    }
   ],
   "source": [
    "cupTest=pd.read_csv('data/mlCup/ML-CUP18-TS.csv', header=None)\n",
    "colums=['index']+[\"i{}\".format(i) for i in range(1,11)]\n",
    "cupTest.columns=colums\n",
    "len(cupTest)"
   ]
  },
  {
   "cell_type": "code",
   "execution_count": 6,
   "metadata": {},
   "outputs": [],
   "source": [
    "cupTest=cupTest.drop(['index'], axis=1)"
   ]
  },
  {
   "cell_type": "code",
   "execution_count": 12,
   "metadata": {},
   "outputs": [],
   "source": [
    "blindFeatures=cupTest.values"
   ]
  },
  {
   "cell_type": "code",
   "execution_count": 13,
   "metadata": {},
   "outputs": [],
   "source": [
    "trainDataCup, validationDataCup, trainLabelsCup, validationLabelsCup=train_test_split(features,labels, test_size=0.2, shuffle=True)"
   ]
  },
  {
   "cell_type": "code",
   "execution_count": 14,
   "metadata": {},
   "outputs": [],
   "source": [
    "minMaxScaler = preprocessing.MinMaxScaler()\n",
    "stdScaler=preprocessing.StandardScaler()"
   ]
  },
  {
   "cell_type": "markdown",
   "metadata": {},
   "source": [
    "<h5>scaling"
   ]
  },
  {
   "cell_type": "code",
   "execution_count": 15,
   "metadata": {},
   "outputs": [],
   "source": [
    "trainData=stdScaler.fit_transform(features)\n",
    "trainLabels=stdScaler.fit_transform(labels)\n",
    "trainDataCup =stdScaler.fit_transform(trainDataCup)\n",
    "validationDataCup=stdScaler.fit_transform(validationDataCup)\n",
    "blindFeatures=stdScaler.fit_transform(blindFeatures)"
   ]
  },
  {
   "cell_type": "markdown",
   "metadata": {},
   "source": [
    "<a id='mlcupgs'></a>\n",
    "### A. Grid Search on regression problem ([to top](#top))"
   ]
  },
  {
   "cell_type": "code",
   "execution_count": 16,
   "metadata": {},
   "outputs": [],
   "source": [
    "defaultParameters={\n",
    "    'hiddenUnits':3,\n",
    "    'randomSeed':0,\n",
    "    'activation':'sigm',\n",
    "    'epochs':200,\n",
    "    'ETA':0.4,\n",
    "    'LAMBDA':0.0,\n",
    "    'loss':\"MEE\",\n",
    "    'ALPHA':0.9,\n",
    "    'weightInitialization':'xav',\n",
    "    'regression':True\n",
    "}\n",
    "\n",
    "parameterGridForModelSelection={\n",
    "#     'randomSeed':[0, 20],\n",
    "    'hiddenUnits':[4, 16, 50],\n",
    "    'activation':['sigm', 'relu', 'tanh'],\n",
    "    'ETA':[0.1, 0.2, 0.4, 0.5,0.7, 0.9],\n",
    "    'LAMBDA':[0.1,0.01, 0.001],\n",
    "    'ALPHA':[0.4, 0.1, 0.7],\n",
    "    'weightInitialization':['xav', 'type1', 'type2'],\n",
    "    'epochs':[200, 400, 800]\n",
    "}"
   ]
  },
  {
   "cell_type": "code",
   "execution_count": 60,
   "metadata": {},
   "outputs": [
    {
     "name": "stdout",
     "output_type": "stream",
     "text": [
      "iteration 800/800       4373/4374\r"
     ]
    }
   ],
   "source": [
    "top5BestParams=abGridSearchCV(defaultParameters, parameterGridForModelSelection, trainData, trainLabels, winnerCriteria=\"meanLosses\", validationSplit=0.3, log=False, topn=5)"
   ]
  },
  {
   "cell_type": "code",
   "execution_count": 61,
   "metadata": {},
   "outputs": [
    {
     "data": {
      "text/plain": [
       "[{'meanLosses': 0.14687525283909958,\n",
       "  'meanTrainingLoss': 0.14464470505989305,\n",
       "  'meanValidationLoss': 0.14910580061830608,\n",
       "  'params': {'ALPHA': 0.7,\n",
       "   'ETA': 0.1,\n",
       "   'LAMBDA': 0.001,\n",
       "   'activation': 'relu',\n",
       "   'epochs': 800,\n",
       "   'hiddenUnits': 50,\n",
       "   'weightInitialization': 'xav'}},\n",
       " {'meanLosses': 0.14734677466170659,\n",
       "  'meanTrainingLoss': 0.14445388968860054,\n",
       "  'meanValidationLoss': 0.15023965963481264,\n",
       "  'params': {'ALPHA': 0.7,\n",
       "   'ETA': 0.1,\n",
       "   'LAMBDA': 0.001,\n",
       "   'activation': 'tanh',\n",
       "   'epochs': 800,\n",
       "   'hiddenUnits': 4,\n",
       "   'weightInitialization': 'xav'}},\n",
       " {'meanLosses': 0.14826573334378448,\n",
       "  'meanTrainingLoss': 0.14503399595048538,\n",
       "  'meanValidationLoss': 0.15149747073708358,\n",
       "  'params': {'ALPHA': 0.7,\n",
       "   'ETA': 0.1,\n",
       "   'LAMBDA': 0.01,\n",
       "   'activation': 'relu',\n",
       "   'epochs': 800,\n",
       "   'hiddenUnits': 50,\n",
       "   'weightInitialization': 'xav'}},\n",
       " {'meanLosses': 0.14875443947407324,\n",
       "  'meanTrainingLoss': 0.14382665662926375,\n",
       "  'meanValidationLoss': 0.15368222231888271,\n",
       "  'params': {'ALPHA': 0.7,\n",
       "   'ETA': 0.1,\n",
       "   'LAMBDA': 0.001,\n",
       "   'activation': 'relu',\n",
       "   'epochs': 800,\n",
       "   'hiddenUnits': 16,\n",
       "   'weightInitialization': 'xav'}},\n",
       " {'meanLosses': 0.14911172857478625,\n",
       "  'meanTrainingLoss': 0.14483011233219595,\n",
       "  'meanValidationLoss': 0.15339334481737654,\n",
       "  'params': {'ALPHA': 0.7,\n",
       "   'ETA': 0.1,\n",
       "   'LAMBDA': 0.01,\n",
       "   'activation': 'relu',\n",
       "   'epochs': 800,\n",
       "   'hiddenUnits': 50,\n",
       "   'weightInitialization': 'type2'}}]"
      ]
     },
     "execution_count": 61,
     "metadata": {},
     "output_type": "execute_result"
    }
   ],
   "source": [
    "top5BestParams"
   ]
  },
  {
   "cell_type": "code",
   "execution_count": 18,
   "metadata": {},
   "outputs": [],
   "source": [
    "bestParams=top5BestParams[0]['params']\n",
    "bestParams"
   ]
  },
  {
   "cell_type": "markdown",
   "metadata": {},
   "source": [
    "<a id='mlcuptrain'></a>\n",
    "### B. Training with best parameters obtained ([to top](#top))"
   ]
  },
  {
   "cell_type": "code",
   "execution_count": 19,
   "metadata": {},
   "outputs": [
    {
     "name": "stdout",
     "output_type": "stream",
     "text": [
      "iteration 800/800\r"
     ]
    }
   ],
   "source": [
    "x=perceptron(**defaultParameters)\n",
    "x.set_params(**bestParams)\n",
    "x.fit(trainData, trainLabels, realTimePlotting=False)"
   ]
  },
  {
   "cell_type": "code",
   "execution_count": 20,
   "metadata": {},
   "outputs": [
    {
     "data": {
      "text/plain": [
       "[<matplotlib.lines.Line2D at 0x7fdcf9280358>]"
      ]
     },
     "execution_count": 20,
     "metadata": {},
     "output_type": "execute_result"
    },
    {
     "data": {
      "image/png": "[encoded data removed]",
      "text/plain": [
       "<matplotlib.figure.Figure at 0x7fdcf930c898>"
      ]
     },
     "metadata": {},
     "output_type": "display_data"
    }
   ],
   "source": [
    "plt.plot(x.losses)"
   ]
  },
  {
   "cell_type": "code",
   "execution_count": 21,
   "metadata": {},
   "outputs": [],
   "source": [
    "def cutIt(array):\n",
    "    x=[]\n",
    "    y=[]\n",
    "    for i in array:\n",
    "        x.append(i[0])\n",
    "        y.append(i[1])\n",
    "    return x,y"
   ]
  },
  {
   "cell_type": "code",
   "execution_count": 22,
   "metadata": {},
   "outputs": [],
   "source": [
    "predictions=x.predict(trainData)"
   ]
  },
  {
   "cell_type": "code",
   "execution_count": 23,
   "metadata": {},
   "outputs": [],
   "source": [
    "xx, yy=cutIt(predictions)\n",
    "xxx,yyy=cutIt(trainLabels)"
   ]
  },
  {
   "cell_type": "code",
   "execution_count": 24,
   "metadata": {},
   "outputs": [
    {
     "data": {
      "text/plain": [
       "<matplotlib.collections.PathCollection at 0x7fdcf6a76390>"
      ]
     },
     "execution_count": 24,
     "metadata": {},
     "output_type": "execute_result"
    },
    {
     "data": {
      "image/png": "[encoded data removed]",
      "text/plain": [
       "<matplotlib.figure.Figure at 0x7fdd25f18668>"
      ]
     },
     "metadata": {},
     "output_type": "display_data"
    }
   ],
   "source": [
    "plt.scatter(xx,yy, alpha=0.9, s=10)\n",
    "plt.scatter(xxx,yyy, alpha= 0.5, s = 2, marker='^')"
   ]
  },
  {
   "cell_type": "markdown",
   "metadata": {},
   "source": [
    "<a id='mlcupcv'></a>\n",
    "### C. Training with best parameters obtained, with validation ([to top](#top))"
   ]
  },
  {
   "cell_type": "code",
   "execution_count": 31,
   "metadata": {},
   "outputs": [
    {
     "name": "stdout",
     "output_type": "stream",
     "text": [
      "iteration 800/800\r"
     ]
    }
   ],
   "source": [
    "x=perceptron(**defaultParameters)\n",
    "x.set_params(**bestParams)\n",
    "x.fit(trainDataCup, trainLabelsCup, validationDataCup, validationLabelsCup, realTimePlotting=False)"
   ]
  },
  {
   "cell_type": "code",
   "execution_count": 32,
   "metadata": {},
   "outputs": [
    {
     "data": {
      "text/plain": [
       "[<matplotlib.lines.Line2D at 0x7fdcf426ef98>]"
      ]
     },
     "execution_count": 32,
     "metadata": {},
     "output_type": "execute_result"
    },
    {
     "data": {
      "image/png": "[encoded data removed]",
      "text/plain": [
       "<matplotlib.figure.Figure at 0x7fdcf426eb70>"
      ]
     },
     "metadata": {},
     "output_type": "display_data"
    }
   ],
   "source": [
    "plt.plot(x.losses)\n",
    "plt.plot(x.validationLosses)"
   ]
  },
  {
   "cell_type": "markdown",
   "metadata": {},
   "source": [
    "<a id='blindtest'></a>\n",
    "### D. Blind Test ([to top](#top))"
   ]
  },
  {
   "cell_type": "markdown",
   "metadata": {},
   "source": [
    "<h3> predicting on model trained with cross validation"
   ]
  },
  {
   "cell_type": "code",
   "execution_count": 33,
   "metadata": {},
   "outputs": [],
   "source": [
    "blindPredictions=x.predict(blindFeatures)"
   ]
  },
  {
   "cell_type": "code",
   "execution_count": 34,
   "metadata": {},
   "outputs": [
    {
     "data": {
      "text/plain": [
       "<matplotlib.collections.PathCollection at 0x7fdcf16ee0f0>"
      ]
     },
     "execution_count": 34,
     "metadata": {},
     "output_type": "execute_result"
    },
    {
     "data": {
      "image/png": "[encoded data removed]",
      "text/plain": [
       "<matplotlib.figure.Figure at 0x7fdcf1719320>"
      ]
     },
     "metadata": {},
     "output_type": "display_data"
    }
   ],
   "source": [
    "xx, yy=cutIt(blindPredictions)\n",
    "xxx,yyy=cutIt(trainLabelsCup)\n",
    "plt.scatter(xx,yy,alpha= 0.9, s = 10, marker='^')\n",
    "plt.scatter(xxx,yyy, alpha= 0.5, s = 2)"
   ]
  },
  {
   "cell_type": "code",
   "execution_count": null,
   "metadata": {},
   "outputs": [],
   "source": []
  },
  {
   "cell_type": "code",
   "execution_count": null,
   "metadata": {},
   "outputs": [],
   "source": []
  },
  {
   "cell_type": "code",
   "execution_count": 35,
   "metadata": {},
   "outputs": [
    {
     "name": "stdout",
     "output_type": "stream",
     "text": [
      "iteration 800/800\r"
     ]
    }
   ],
   "source": [
    "regressionModel=perceptron(**defaultParameters)\n",
    "regressionModel.set_params(**bestParams)\n",
    "regressionModel.fit(trainDataCup, trainLabelsCup, realTimePlotting=False)\n",
    "blindPredictions=regressionModel.predict(blindFeatures)"
   ]
  },
  {
   "cell_type": "code",
   "execution_count": 36,
   "metadata": {},
   "outputs": [
    {
     "data": {
      "text/plain": [
       "[<matplotlib.lines.Line2D at 0x7fdcf1647940>]"
      ]
     },
     "execution_count": 36,
     "metadata": {},
     "output_type": "execute_result"
    },
    {
     "data": {
      "image/png": "[encoded data removed]",
      "text/plain": [
       "<matplotlib.figure.Figure at 0x7fdcf1719400>"
      ]
     },
     "metadata": {},
     "output_type": "display_data"
    }
   ],
   "source": [
    "plt.plot(regressionModel.losses)"
   ]
  },
  {
   "cell_type": "code",
   "execution_count": 37,
   "metadata": {},
   "outputs": [],
   "source": [
    "blindPredictions=regressionModel.predict(blindFeatures)"
   ]
  },
  {
   "cell_type": "code",
   "execution_count": 38,
   "metadata": {},
   "outputs": [
    {
     "data": {
      "text/plain": [
       "<matplotlib.collections.PathCollection at 0x7fdcf15cd048>"
      ]
     },
     "execution_count": 38,
     "metadata": {},
     "output_type": "execute_result"
    },
    {
     "data": {
      "image/png": "[encoded data removed]",
      "text/plain": [
       "<matplotlib.figure.Figure at 0x7fdcf1712c88>"
      ]
     },
     "metadata": {},
     "output_type": "display_data"
    }
   ],
   "source": [
    "xx, yy=cutIt(blindPredictions)\n",
    "xxx,yyy=cutIt(trainLabelsCup)\n",
    "plt.scatter(xx,yy,alpha= 0.9, s = 10, marker='^')\n",
    "plt.scatter(xxx,yyy, alpha= 0.5, s = 2)"
   ]
  }
 ],
 "metadata": {
  "kernelspec": {
   "display_name": "Python 3",
   "language": "python",
   "name": "python3"
  },
  "language_info": {
   "codemirror_mode": {
    "name": "ipython",
    "version": 3
   },
   "file_extension": ".py",
   "mimetype": "text/x-python",
   "name": "python",
   "nbconvert_exporter": "python",
   "pygments_lexer": "ipython3",
   "version": "3.6.7"
  }
 },
 "nbformat": 4,
 "nbformat_minor": 2
}
